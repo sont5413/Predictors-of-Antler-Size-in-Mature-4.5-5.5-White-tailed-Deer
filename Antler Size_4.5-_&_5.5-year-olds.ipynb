{
 "cells": [
  {
   "cell_type": "markdown",
   "id": "c8c41b30",
   "metadata": {},
   "source": [
    "## A. Predictors of Antler Size in 4.5- and 5.5-year-old Male White-tailed Deer\n",
    "\n",
    "## I. Import Libraries"
   ]
  },
  {
   "cell_type": "code",
   "execution_count": 1,
   "id": "267b5df6",
   "metadata": {},
   "outputs": [],
   "source": [
    "import pandas as pd\n",
    "import matplotlib.pyplot as plt\n",
    "import numpy as np\n",
    "from sklearn.model_selection import train_test_split\n",
    "from sklearn.metrics import mean_absolute_error\n",
    "from sklearn.ensemble import RandomForestRegressor\n",
    "from sklearn.ensemble import GradientBoostingRegressor\n",
    "import xgboost as xg\n",
    "from sklearn.preprocessing import OneHotEncoder\n",
    "from sklearn.preprocessing import OrdinalEncoder, LabelEncoder\n",
    "from sklearn.model_selection import cross_val_score"
   ]
  },
  {
   "cell_type": "markdown",
   "id": "97c8b6b3",
   "metadata": {},
   "source": [
    "## 2. Data\n",
    "\n",
    "* These two datasets include data collected from 4.5- and 5.5-year-old male white-tailed deer from a captive colony at the Kerr Wildlife Management Area.  Two of the datasets includes parentage information, age, birth year, diet type, antler mass, and body mass of male white-tailed deer. \n",
    "* Variables: birth weight 'birth wt', mother 'DID', father 'SID', dietary intake 'Energy', birth year 'birthyr', and year data was collected 'yr'.\n",
    "* The variable 'Energy' is an ordinal variable representing two diets that differed in dietary energy where 'S'= 2.65 kcal/g and 'L'= 1.77 kcal. "
   ]
  },
  {
   "cell_type": "markdown",
   "id": "8e561418",
   "metadata": {},
   "source": [
    "## 3. Goals: \n",
    "* Assess the influence from environmental and  maternal factors on antler size of mature, 4.5- and 5.5-year-old, male white-tailed deer."
   ]
  },
  {
   "cell_type": "code",
   "execution_count": 2,
   "id": "943e2f8d",
   "metadata": {},
   "outputs": [],
   "source": [
    "data_4 = pd.read_csv(\"Kerr_Data_4.5.csv\")\n",
    "\n",
    "data_5 = pd.read_csv(\"Kerr_Data_5.5.csv\")"
   ]
  },
  {
   "cell_type": "markdown",
   "id": "46fc0061",
   "metadata": {},
   "source": [
    "## 4. Data Cleaning\n",
    "\n",
    "The variables 'Birthyrcat', 'Age', and 'ID' will be dropped from all datasets. 'Age' will be dropped because we already know that older deer have larger antlers. 'DaB' and 'Lit type' will be dropped in 2 of the 4 datasets analyzed since they have some NaN values.  These two datasets were split so that (1) two datasets would have more data to analyze, and (2) the effects of 'DaB' and 'Lit type' could be analyzed. Thus, four datasets were analyzed separately."
   ]
  },
  {
   "cell_type": "code",
   "execution_count": 3,
   "id": "ccb87f46",
   "metadata": {},
   "outputs": [],
   "source": [
    "data_4.drop(['age','Birthyrcat','ID','DaB','Lit type'],axis=1, inplace=True)"
   ]
  },
  {
   "cell_type": "code",
   "execution_count": 4,
   "id": "005989f6",
   "metadata": {},
   "outputs": [],
   "source": [
    "data_5.drop(['age','Birthyrcat','ID','DaB','Lit type'],axis=1, inplace=True)"
   ]
  },
  {
   "cell_type": "code",
   "execution_count": 5,
   "id": "c8d0a85a",
   "metadata": {},
   "outputs": [],
   "source": [
    "# 'Energy' was encoded with label encoder because it is an ordinal variable.  'Lit type' was one-hot encoded because it is a categorical variable.\n",
    "\n",
    "le = LabelEncoder()\n",
    "\n",
    "data_4['Energy'] = le.fit_transform(data_4['Energy'])\n",
    "\n",
    "data_5['Energy'] = le.fit_transform(data_5['Energy'])"
   ]
  },
  {
   "cell_type": "markdown",
   "id": "d5ac47c7",
   "metadata": {},
   "source": [
    "## 5. Segregating the target variable 'antler_kg'"
   ]
  },
  {
   "cell_type": "code",
   "execution_count": 6,
   "id": "2f69abff",
   "metadata": {},
   "outputs": [],
   "source": [
    "X_4 = data_4.drop(['antler_kg'], axis=1)\n",
    "\n",
    "y_4 = data_4['antler_kg']"
   ]
  },
  {
   "cell_type": "code",
   "execution_count": 7,
   "id": "208480b2",
   "metadata": {},
   "outputs": [],
   "source": [
    "X_5 = data_5.drop(['antler kg'], axis=1)\n",
    "\n",
    "y_5 = data_5['antler kg']"
   ]
  },
  {
   "cell_type": "markdown",
   "id": "0b3438db",
   "metadata": {},
   "source": [
    "## 5. Models: Random Forest and Gradient Boosting Regressor"
   ]
  },
  {
   "cell_type": "markdown",
   "id": "47b0bb49",
   "metadata": {},
   "source": [
    "### A. Regresssor models"
   ]
  },
  {
   "cell_type": "code",
   "execution_count": 8,
   "id": "51d96905",
   "metadata": {},
   "outputs": [],
   "source": [
    "rfc = RandomForestRegressor(random_state=0)\n",
    "gb = GradientBoostingRegressor(random_state = 0)\n",
    "xgbr = xg.XGBRegressor()\n"
   ]
  },
  {
   "cell_type": "markdown",
   "id": "22996560",
   "metadata": {},
   "source": [
    "### C. Model selection: Cross-validation\n",
    "\n",
    "* We will perform cross validation to evaluate the gradient boosting and random forest regressors on both the 4.5-year-olds and 5.5-year-olds datasets"
   ]
  },
  {
   "cell_type": "code",
   "execution_count": 9,
   "id": "edac83e4",
   "metadata": {},
   "outputs": [
    {
     "name": "stdout",
     "output_type": "stream",
     "text": [
      "MAE values:  [0.23103037 0.28046925 0.28890238 0.23850025 0.3719965  0.32674213\n",
      " 0.28993463 0.29038275 0.28290443 0.26820429]\n",
      "MAE average:  0.2869066964285715\n"
     ]
    }
   ],
   "source": [
    "scores_rfc_4 = cross_val_score(rfc,X_4,y_4,scoring=\"neg_mean_absolute_error\",cv=10)\n",
    "mae_rfc_4 = (-scores_rfc_4)\n",
    "print(\"MAE values: \", mae_rfc_4)\n",
    "print(\"MAE average: \", np.mean(mae_rfc_4))"
   ]
  },
  {
   "cell_type": "code",
   "execution_count": 10,
   "id": "a36cdd8c",
   "metadata": {},
   "outputs": [
    {
     "name": "stdout",
     "output_type": "stream",
     "text": [
      "MAE values:  [0.26041847 0.24252228 0.28083345 0.20027617 0.3591896  0.3200404\n",
      " 0.33238415 0.27591741 0.29482839 0.28580702]\n",
      "MAE average:  0.2852217347252235\n"
     ]
    }
   ],
   "source": [
    "scores_gb_4 = cross_val_score(gb,X_4,y_4,scoring=\"neg_mean_absolute_error\",cv=10)\n",
    "mae_gb_4 = (-scores_gb_4)\n",
    "print(\"MAE values: \", mae_gb_4)\n",
    "print(\"MAE average: \", np.mean(mae_gb_4))"
   ]
  },
  {
   "cell_type": "code",
   "execution_count": 11,
   "id": "f67c6e74",
   "metadata": {},
   "outputs": [
    {
     "name": "stdout",
     "output_type": "stream",
     "text": [
      "MAE values:  [0.26669846 0.29349877 0.30620552 0.27461976 0.39913531 0.32784625\n",
      " 0.31582496 0.31224192 0.31907353 0.30480838]\n",
      "MAE average:  0.3119952857029438\n"
     ]
    }
   ],
   "source": [
    "scores_xgbr_4 = cross_val_score(xgbr,X_4,y_4,scoring=\"neg_mean_absolute_error\",cv=10)\n",
    "mae_xgbr_4 = (-scores_xgbr_4)\n",
    "print(\"MAE values: \", mae_xgbr_4)\n",
    "print(\"MAE average: \", np.mean(mae_xgbr_4))"
   ]
  },
  {
   "cell_type": "code",
   "execution_count": 12,
   "id": "21052a40",
   "metadata": {},
   "outputs": [
    {
     "name": "stdout",
     "output_type": "stream",
     "text": [
      "MAE values:  [0.187182   0.5297135  0.31699875 0.13839575 0.23558525 0.4187695\n",
      " 0.22333375 0.2512635  0.31017125 0.2492725 ]\n",
      "MAE average:  0.2860685749999998\n"
     ]
    }
   ],
   "source": [
    "scores_rfc_5 = cross_val_score(rfc,X_5,y_5,scoring=\"neg_mean_absolute_error\",cv=10)\n",
    "mae_rfc_5= (-scores_rfc_5)\n",
    "print(\"MAE values: \", mae_rfc_5)\n",
    "print(\"MAE average: \", np.mean(mae_rfc_5))"
   ]
  },
  {
   "cell_type": "code",
   "execution_count": 13,
   "id": "5a7642b6",
   "metadata": {},
   "outputs": [
    {
     "name": "stdout",
     "output_type": "stream",
     "text": [
      "MAE values:  [0.37240393 0.53404909 0.57142513 0.16883572 0.25691811 0.38987172\n",
      " 0.21002084 0.20867209 0.35158956 0.26362335]\n",
      "MAE average:  0.33274095201113785\n"
     ]
    }
   ],
   "source": [
    "scores_gb_5 = cross_val_score(gb,X_5,y_5,scoring=\"neg_mean_absolute_error\",cv=10)\n",
    "mae_gb_5 = (-scores_gb_5)\n",
    "print(\"MAE values: \", mae_gb_5)\n",
    "print(\"MAE average: \", np.mean(mae_gb_5))"
   ]
  },
  {
   "cell_type": "code",
   "execution_count": 14,
   "id": "540c44b6",
   "metadata": {},
   "outputs": [
    {
     "name": "stdout",
     "output_type": "stream",
     "text": [
      "MAE values:  [0.41960451 0.5944915  0.52649913 0.09096668 0.26699424 0.40955253\n",
      " 0.2262795  0.23088407 0.47148614 0.36766112]\n",
      "MAE average:  0.36044194295644766\n"
     ]
    }
   ],
   "source": [
    "scores_xgbr_5 = cross_val_score(xgbr,X_5,y_5,scoring=\"neg_mean_absolute_error\",cv=10)\n",
    "mae_xgbr_5 = (-scores_xgbr_5)\n",
    "print(\"MAE values: \", mae_xgbr_5)\n",
    "print(\"MAE average: \", np.mean(mae_xgbr_5))"
   ]
  },
  {
   "cell_type": "markdown",
   "id": "08bdb6d9",
   "metadata": {},
   "source": [
    "Cross validation confirms that gradient boosting is appropriate for the 4.5-year olds (i.e., average MAE from the 10-folds of the gb regressor is less than that of the rf regressor).  However, average MAE from cross validation is lower for the rf regressor than the gb regressor, thus, rf regressor will used to fit our model.  The xgb regressor will not be used, as it had the lowest mean MAE for both datasets."
   ]
  },
  {
   "cell_type": "markdown",
   "id": "e8b73f5a",
   "metadata": {},
   "source": [
    "### D. Fit selected models on entire dataset"
   ]
  },
  {
   "cell_type": "code",
   "execution_count": 15,
   "id": "6660a40f",
   "metadata": {},
   "outputs": [],
   "source": [
    "gb_4 = gb.fit(X_4, y_4)\n",
    "rfc_5 = rfc.fit(X_5,y_5)"
   ]
  },
  {
   "cell_type": "markdown",
   "id": "da98218e",
   "metadata": {},
   "source": [
    "## 6. Important Features"
   ]
  },
  {
   "cell_type": "markdown",
   "id": "8cd6aafa",
   "metadata": {},
   "source": [
    "### A. 4.5-year-olds"
   ]
  },
  {
   "cell_type": "code",
   "execution_count": 16,
   "id": "9c8f1b32",
   "metadata": {},
   "outputs": [
    {
     "data": {
      "text/html": [
       "<div>\n",
       "<style scoped>\n",
       "    .dataframe tbody tr th:only-of-type {\n",
       "        vertical-align: middle;\n",
       "    }\n",
       "\n",
       "    .dataframe tbody tr th {\n",
       "        vertical-align: top;\n",
       "    }\n",
       "\n",
       "    .dataframe thead th {\n",
       "        text-align: right;\n",
       "    }\n",
       "</style>\n",
       "<table border=\"1\" class=\"dataframe\">\n",
       "  <thead>\n",
       "    <tr style=\"text-align: right;\">\n",
       "      <th></th>\n",
       "      <th>Importance</th>\n",
       "    </tr>\n",
       "  </thead>\n",
       "  <tbody>\n",
       "    <tr>\n",
       "      <th>bm kg</th>\n",
       "      <td>0.334083</td>\n",
       "    </tr>\n",
       "    <tr>\n",
       "      <th>birth wt</th>\n",
       "      <td>0.323640</td>\n",
       "    </tr>\n",
       "    <tr>\n",
       "      <th>DID</th>\n",
       "      <td>0.157973</td>\n",
       "    </tr>\n",
       "    <tr>\n",
       "      <th>SID</th>\n",
       "      <td>0.104817</td>\n",
       "    </tr>\n",
       "    <tr>\n",
       "      <th>Energy</th>\n",
       "      <td>0.072567</td>\n",
       "    </tr>\n",
       "    <tr>\n",
       "      <th>Birthyr</th>\n",
       "      <td>0.004163</td>\n",
       "    </tr>\n",
       "    <tr>\n",
       "      <th>yr</th>\n",
       "      <td>0.002757</td>\n",
       "    </tr>\n",
       "  </tbody>\n",
       "</table>\n",
       "</div>"
      ],
      "text/plain": [
       "           Importance\n",
       "bm kg        0.334083\n",
       "birth wt     0.323640\n",
       "DID          0.157973\n",
       "SID          0.104817\n",
       "Energy       0.072567\n",
       "Birthyr      0.004163\n",
       "yr           0.002757"
      ]
     },
     "execution_count": 16,
     "metadata": {},
     "output_type": "execute_result"
    }
   ],
   "source": [
    "feat_importances_4 = pd.DataFrame(gb_4.feature_importances_, index=X_4.columns, columns=[\"Importance\"])\n",
    "feat_importances_4.sort_values(by='Importance', ascending=False, inplace=True)\n",
    "feat_importances_4"
   ]
  },
  {
   "cell_type": "code",
   "execution_count": 17,
   "id": "9827b853",
   "metadata": {},
   "outputs": [
    {
     "data": {
      "image/png": "[encoded data removed]",
      "text/plain": [
       "<Figure size 720x450 with 1 Axes>"
      ]
     },
     "metadata": {
      "needs_background": "light"
     },
     "output_type": "display_data"
    }
   ],
   "source": [
    "feature_names_4 = [col for col in X_4]\n",
    "feature_importances_4 = gb_4.feature_importances_\n",
    "indices_4 = np.argsort(feature_importances_4)[::-1]\n",
    "n = 5 # maximum feature importances displayed\n",
    "idx_4 = indices_4[0:n] \n",
    "\n",
    "plt.figure(figsize=(10, 6.25))\n",
    "titlefont = 20\n",
    "plt.title(\"Features that Influence Antler Size of 4.5-year-old White-tailed Deer\", fontdict={'fontsize':titlefont})\n",
    "plt.bar(range(n), feature_importances_4[idx_4], color=(0.2, 0.4, 0.6, 0.6), width=0.5, align=\"center\")\n",
    "xticksize = 20\n",
    "plt.xticks(range(n), [feature_names_4[id] for id in idx_4], rotation = 45, fontdict={'fontsize':xticksize}) \n",
    "plt.tick_params(axis='y', which='major', labelsize=20)\n",
    "plt.xlim([-1, n]) \n",
    "plt.show()"
   ]
  },
  {
   "cell_type": "markdown",
   "id": "dc9bd9a7",
   "metadata": {},
   "source": [
    "### B. 5.5-year-olds"
   ]
  },
  {
   "cell_type": "code",
   "execution_count": 18,
   "id": "0beff554",
   "metadata": {},
   "outputs": [
    {
     "data": {
      "text/html": [
       "<div>\n",
       "<style scoped>\n",
       "    .dataframe tbody tr th:only-of-type {\n",
       "        vertical-align: middle;\n",
       "    }\n",
       "\n",
       "    .dataframe tbody tr th {\n",
       "        vertical-align: top;\n",
       "    }\n",
       "\n",
       "    .dataframe thead th {\n",
       "        text-align: right;\n",
       "    }\n",
       "</style>\n",
       "<table border=\"1\" class=\"dataframe\">\n",
       "  <thead>\n",
       "    <tr style=\"text-align: right;\">\n",
       "      <th></th>\n",
       "      <th>Importance</th>\n",
       "    </tr>\n",
       "  </thead>\n",
       "  <tbody>\n",
       "    <tr>\n",
       "      <th>bm kg</th>\n",
       "      <td>0.248734</td>\n",
       "    </tr>\n",
       "    <tr>\n",
       "      <th>DID</th>\n",
       "      <td>0.243775</td>\n",
       "    </tr>\n",
       "    <tr>\n",
       "      <th>SID</th>\n",
       "      <td>0.232968</td>\n",
       "    </tr>\n",
       "    <tr>\n",
       "      <th>birth wt</th>\n",
       "      <td>0.212945</td>\n",
       "    </tr>\n",
       "    <tr>\n",
       "      <th>Energy</th>\n",
       "      <td>0.029147</td>\n",
       "    </tr>\n",
       "    <tr>\n",
       "      <th>yr</th>\n",
       "      <td>0.016273</td>\n",
       "    </tr>\n",
       "    <tr>\n",
       "      <th>Birthyr</th>\n",
       "      <td>0.016158</td>\n",
       "    </tr>\n",
       "  </tbody>\n",
       "</table>\n",
       "</div>"
      ],
      "text/plain": [
       "           Importance\n",
       "bm kg        0.248734\n",
       "DID          0.243775\n",
       "SID          0.232968\n",
       "birth wt     0.212945\n",
       "Energy       0.029147\n",
       "yr           0.016273\n",
       "Birthyr      0.016158"
      ]
     },
     "execution_count": 18,
     "metadata": {},
     "output_type": "execute_result"
    }
   ],
   "source": [
    "feat_importances_5 = pd.DataFrame(rfc_5.feature_importances_, index=X_5.columns, columns=[\"Importance\"])\n",
    "feat_importances_5.sort_values(by='Importance', ascending=False, inplace=True)\n",
    "feat_importances_5"
   ]
  },
  {
   "cell_type": "code",
   "execution_count": 19,
   "id": "a843d7de",
   "metadata": {},
   "outputs": [
    {
     "data": {
      "image/png": "[encoded data removed]",
      "text/plain": [
       "<Figure size 720x450 with 1 Axes>"
      ]
     },
     "metadata": {
      "needs_background": "light"
     },
     "output_type": "display_data"
    }
   ],
   "source": [
    "feature_names_5 = [col for col in X_5]\n",
    "feature_importances_5 = rfc_5.feature_importances_\n",
    "indices = np.argsort(feature_importances_5)[::-1]\n",
    "n = 5 # maximum feature importances displayed\n",
    "idx_5 = indices[0:n] \n",
    "\n",
    "plt.figure(figsize=(10, 6.25))\n",
    "titlefont = 20\n",
    "plt.title(\"Features That Influence Antler Size of 5.5-year-old White-tailed Deer\", fontdict={'fontsize':titlefont})\n",
    "plt.bar(range(n), feature_importances_5[idx_5], color=\"lightcoral\", width=0.5, align=\"center\")\n",
    "xticksize = 20\n",
    "plt.xticks(range(n), [feature_names_5[id] for id in idx_5], rotation = 45, fontdict={'fontsize':xticksize}) \n",
    "plt.tick_params(axis='y', which='major', labelsize=20)\n",
    "plt.xlim([-1, n]) \n",
    "plt.show()"
   ]
  },
  {
   "cell_type": "markdown",
   "id": "a162e1f1",
   "metadata": {},
   "source": [
    "## 7. Implications"
   ]
  },
  {
   "cell_type": "markdown",
   "id": "012d7915",
   "metadata": {},
   "source": [
    "### A. 4.5-year-olds\n",
    "* Antler size of 4.5-year-old males is most influenced by the body mass of the male, which is not surprising, but useful to know for certain. \n",
    "* 'Birth wt' is more predictive of antler size in 4.5-year-olds than in 5.5-year-olds.\n",
    "* The mother ('DID') and father ('DID') were predictive of antler size.\n",
    "* What's most surprising here is that, when it comes to determing antler size of mature males, it didn't really matter whether males had been eating a low or high energy diet ('Energy') throughout their life.  \n",
    "\n",
    "###  B. 5.5-year-olds\n",
    "* Body mass is also the most influential feature of antler size in 5.5-year-old males.\n",
    "* The mother ('DID') and father ('DID') were predictive of antler size.\n",
    "* Like in 4.5-year-olds, available dietary energy (high versus low; 'Energy') was not very influential."
   ]
  }
 ],
 "metadata": {
  "kernelspec": {
   "display_name": "Python 3 (ipykernel)",
   "language": "python",
   "name": "python3"
  },
  "language_info": {
   "codemirror_mode": {
    "name": "ipython",
    "version": 3
   },
   "file_extension": ".py",
   "mimetype": "text/x-python",
   "name": "python",
   "nbconvert_exporter": "python",
   "pygments_lexer": "ipython3",
   "version": "3.8.8"
  }
 },
 "nbformat": 4,
 "nbformat_minor": 5
}
