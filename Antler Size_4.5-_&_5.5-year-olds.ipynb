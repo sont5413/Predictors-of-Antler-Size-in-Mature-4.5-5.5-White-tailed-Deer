{
 "cells": [
  {
   "cell_type": "markdown",
   "id": "c8c41b30",
   "metadata": {},
   "source": [
    "## A. Predictors of Antler Size in 4.5- and 5.5-year-old Male White-tailed Deer\n",
    "\n",
    "## I. Import Libraries"
   ]
  },
  {
   "cell_type": "code",
   "execution_count": 1,
   "id": "267b5df6",
   "metadata": {},
   "outputs": [],
   "source": [
    "import pandas as pd\n",
    "import matplotlib.pyplot as plt\n",
    "import numpy as np\n",
    "from sklearn.metrics import mean_absolute_error\n",
    "from sklearn.ensemble import RandomForestRegressor\n",
    "from sklearn.ensemble import GradientBoostingRegressor"
   ]
  },
  {
   "cell_type": "markdown",
   "id": "97c8b6b3",
   "metadata": {},
   "source": [
    "## 2. Data\n",
    "\n",
    "These two datasets include data collected from 4.5- and 5.5-year-old male white-tailed deer from a captive colony at the Kerr Wildlife Management Area.  Each dataset includes parentage information, age, birth year, diet type, antler mass, and body mass of male white-tailed deer."
   ]
  },
  {
   "cell_type": "markdown",
   "id": "8e561418",
   "metadata": {},
   "source": [
    "## 3. Goal: assess the influence from birth weight 'birth wt', mother 'DID', father 'SID', dietary intake 'Energy' where 'S'= 2.65 kcal/g; 'L'= 1.77 kcal/g), birth year 'birthyr', mother's age at birth 'DaB', litter type 'Lit type', and year data was collected 'yr' on antler size of 4.5- and 5.5-year-old males. "
   ]
  },
  {
   "cell_type": "code",
   "execution_count": 2,
   "id": "943e2f8d",
   "metadata": {},
   "outputs": [],
   "source": [
    "data_4 = pd.read_csv(\"Kerr_Data_4.5.csv\")\n",
    "\n",
    "data_4_ALL = pd.read_csv(\"Kerr_Data_4.5.csv\")\n",
    "\n",
    "data_5 = pd.read_csv(\"Kerr_Data_5.5.csv\")\n",
    "\n",
    "data_5_ALL = pd.read_csv(\"Kerr_Data_5.5.csv\")\n"
   ]
  },
  {
   "cell_type": "markdown",
   "id": "46fc0061",
   "metadata": {},
   "source": [
    "## 4. Data Cleaning\n",
    "\n",
    "Variables 'Birthyrcat', 'Age', and 'ID' will be dropped from all datasets. 'Age' will be dropped because we already know that older deer have larger antlers. DaB and Lit Type will be dropped in 2 of the 4 datasets analyzed since they have some NA values and we will have more data in the other two datasets by doing so. Thus, four datasets were analyzed separately."
   ]
  },
  {
   "cell_type": "code",
   "execution_count": 3,
   "id": "ccb87f46",
   "metadata": {},
   "outputs": [],
   "source": [
    "data_4.drop(['age','Birthyrcat','ID','DaB','Lit type'],axis=1, inplace=True)"
   ]
  },
  {
   "cell_type": "code",
   "execution_count": 4,
   "id": "f90864f2",
   "metadata": {},
   "outputs": [],
   "source": [
    "data_4_ALL.drop(['age','Birthyrcat','ID'],axis=1, inplace=True)"
   ]
  },
  {
   "cell_type": "code",
   "execution_count": 5,
   "id": "005989f6",
   "metadata": {},
   "outputs": [],
   "source": [
    "data_5.drop(['age','Birthyrcat','ID','DaB','Lit type'],axis=1, inplace=True)"
   ]
  },
  {
   "cell_type": "code",
   "execution_count": 6,
   "id": "467cad09",
   "metadata": {},
   "outputs": [],
   "source": [
    "data_5_ALL.drop(['age','Birthyrcat','ID'],axis=1, inplace=True)"
   ]
  },
  {
   "cell_type": "code",
   "execution_count": 7,
   "id": "767d6ead",
   "metadata": {},
   "outputs": [
    {
     "data": {
      "text/html": [
       "<div>\n",
       "<style scoped>\n",
       "    .dataframe tbody tr th:only-of-type {\n",
       "        vertical-align: middle;\n",
       "    }\n",
       "\n",
       "    .dataframe tbody tr th {\n",
       "        vertical-align: top;\n",
       "    }\n",
       "\n",
       "    .dataframe thead th {\n",
       "        text-align: right;\n",
       "    }\n",
       "</style>\n",
       "<table border=\"1\" class=\"dataframe\">\n",
       "  <thead>\n",
       "    <tr style=\"text-align: right;\">\n",
       "      <th></th>\n",
       "      <th>SID</th>\n",
       "      <th>DID</th>\n",
       "      <th>birth wt</th>\n",
       "      <th>Birthyr</th>\n",
       "      <th>Energy</th>\n",
       "      <th>yr</th>\n",
       "      <th>antler kg</th>\n",
       "      <th>bm kg</th>\n",
       "      <th>DaB</th>\n",
       "      <th>Lit type</th>\n",
       "    </tr>\n",
       "  </thead>\n",
       "  <tbody>\n",
       "    <tr>\n",
       "      <th>0</th>\n",
       "      <td>1210039</td>\n",
       "      <td>2209018</td>\n",
       "      <td>2.839488</td>\n",
       "      <td>2012</td>\n",
       "      <td>L</td>\n",
       "      <td>2016</td>\n",
       "      <td>0.9540</td>\n",
       "      <td>65.317248</td>\n",
       "      <td>3.0</td>\n",
       "      <td>M</td>\n",
       "    </tr>\n",
       "    <tr>\n",
       "      <th>1</th>\n",
       "      <td>1210039</td>\n",
       "      <td>2209018</td>\n",
       "      <td>2.440327</td>\n",
       "      <td>2012</td>\n",
       "      <td>S</td>\n",
       "      <td>2016</td>\n",
       "      <td>1.5180</td>\n",
       "      <td>76.203456</td>\n",
       "      <td>3.0</td>\n",
       "      <td>M</td>\n",
       "    </tr>\n",
       "    <tr>\n",
       "      <th>2</th>\n",
       "      <td>1210045</td>\n",
       "      <td>2209059</td>\n",
       "      <td>2.775985</td>\n",
       "      <td>2012</td>\n",
       "      <td>L</td>\n",
       "      <td>2016</td>\n",
       "      <td>1.4880</td>\n",
       "      <td>71.667536</td>\n",
       "      <td>3.0</td>\n",
       "      <td>M</td>\n",
       "    </tr>\n",
       "    <tr>\n",
       "      <th>3</th>\n",
       "      <td>1209020</td>\n",
       "      <td>2210086</td>\n",
       "      <td>3.646883</td>\n",
       "      <td>2012</td>\n",
       "      <td>L</td>\n",
       "      <td>2016</td>\n",
       "      <td>1.2000</td>\n",
       "      <td>74.389088</td>\n",
       "      <td>2.0</td>\n",
       "      <td>S</td>\n",
       "    </tr>\n",
       "    <tr>\n",
       "      <th>4</th>\n",
       "      <td>1209020</td>\n",
       "      <td>2207013</td>\n",
       "      <td>2.648979</td>\n",
       "      <td>2012</td>\n",
       "      <td>S</td>\n",
       "      <td>2016</td>\n",
       "      <td>1.4880</td>\n",
       "      <td>89.811216</td>\n",
       "      <td>5.0</td>\n",
       "      <td>M</td>\n",
       "    </tr>\n",
       "    <tr>\n",
       "      <th>...</th>\n",
       "      <td>...</td>\n",
       "      <td>...</td>\n",
       "      <td>...</td>\n",
       "      <td>...</td>\n",
       "      <td>...</td>\n",
       "      <td>...</td>\n",
       "      <td>...</td>\n",
       "      <td>...</td>\n",
       "      <td>...</td>\n",
       "      <td>...</td>\n",
       "    </tr>\n",
       "    <tr>\n",
       "      <th>67</th>\n",
       "      <td>1210045</td>\n",
       "      <td>2210066</td>\n",
       "      <td>2.857632</td>\n",
       "      <td>2014</td>\n",
       "      <td>L</td>\n",
       "      <td>2018</td>\n",
       "      <td>1.6553</td>\n",
       "      <td>63.502880</td>\n",
       "      <td>4.0</td>\n",
       "      <td>M</td>\n",
       "    </tr>\n",
       "    <tr>\n",
       "      <th>68</th>\n",
       "      <td>1210089</td>\n",
       "      <td>2211029</td>\n",
       "      <td>1.850657</td>\n",
       "      <td>2014</td>\n",
       "      <td>L</td>\n",
       "      <td>2018</td>\n",
       "      <td>0.7410</td>\n",
       "      <td>59.647348</td>\n",
       "      <td>3.0</td>\n",
       "      <td>S</td>\n",
       "    </tr>\n",
       "    <tr>\n",
       "      <th>69</th>\n",
       "      <td>1210015</td>\n",
       "      <td>2209015</td>\n",
       "      <td>2.331465</td>\n",
       "      <td>2014</td>\n",
       "      <td>L</td>\n",
       "      <td>2018</td>\n",
       "      <td>1.0840</td>\n",
       "      <td>74.615884</td>\n",
       "      <td>5.0</td>\n",
       "      <td>M</td>\n",
       "    </tr>\n",
       "    <tr>\n",
       "      <th>70</th>\n",
       "      <td>1210045</td>\n",
       "      <td>2210082</td>\n",
       "      <td>2.694339</td>\n",
       "      <td>2014</td>\n",
       "      <td>L</td>\n",
       "      <td>2018</td>\n",
       "      <td>1.5349</td>\n",
       "      <td>86.862868</td>\n",
       "      <td>3.0</td>\n",
       "      <td>M</td>\n",
       "    </tr>\n",
       "    <tr>\n",
       "      <th>71</th>\n",
       "      <td>1210089</td>\n",
       "      <td>2210072</td>\n",
       "      <td>2.821345</td>\n",
       "      <td>2014</td>\n",
       "      <td>S</td>\n",
       "      <td>2018</td>\n",
       "      <td>0.9052</td>\n",
       "      <td>70.987148</td>\n",
       "      <td>4.0</td>\n",
       "      <td>M</td>\n",
       "    </tr>\n",
       "  </tbody>\n",
       "</table>\n",
       "<p>62 rows × 10 columns</p>\n",
       "</div>"
      ],
      "text/plain": [
       "        SID      DID  birth wt   Birthyr Energy    yr  antler kg      bm kg  \\\n",
       "0   1210039  2209018   2.839488     2012      L  2016     0.9540  65.317248   \n",
       "1   1210039  2209018   2.440327     2012      S  2016     1.5180  76.203456   \n",
       "2   1210045  2209059   2.775985     2012      L  2016     1.4880  71.667536   \n",
       "3   1209020  2210086   3.646883     2012      L  2016     1.2000  74.389088   \n",
       "4   1209020  2207013   2.648979     2012      S  2016     1.4880  89.811216   \n",
       "..      ...      ...        ...      ...    ...   ...        ...        ...   \n",
       "67  1210045  2210066   2.857632     2014      L  2018     1.6553  63.502880   \n",
       "68  1210089  2211029   1.850657     2014      L  2018     0.7410  59.647348   \n",
       "69  1210015  2209015   2.331465     2014      L  2018     1.0840  74.615884   \n",
       "70  1210045  2210082   2.694339     2014      L  2018     1.5349  86.862868   \n",
       "71  1210089  2210072   2.821345     2014      S  2018     0.9052  70.987148   \n",
       "\n",
       "    DaB Lit type  \n",
       "0   3.0        M  \n",
       "1   3.0        M  \n",
       "2   3.0        M  \n",
       "3   2.0        S  \n",
       "4   5.0        M  \n",
       "..  ...      ...  \n",
       "67  4.0        M  \n",
       "68  3.0        S  \n",
       "69  5.0        M  \n",
       "70  3.0        M  \n",
       "71  4.0        M  \n",
       "\n",
       "[62 rows x 10 columns]"
      ]
     },
     "execution_count": 7,
     "metadata": {},
     "output_type": "execute_result"
    }
   ],
   "source": [
    "data_4_ALL.dropna()"
   ]
  },
  {
   "cell_type": "code",
   "execution_count": 8,
   "id": "cae93e15",
   "metadata": {},
   "outputs": [
    {
     "data": {
      "text/html": [
       "<div>\n",
       "<style scoped>\n",
       "    .dataframe tbody tr th:only-of-type {\n",
       "        vertical-align: middle;\n",
       "    }\n",
       "\n",
       "    .dataframe tbody tr th {\n",
       "        vertical-align: top;\n",
       "    }\n",
       "\n",
       "    .dataframe thead th {\n",
       "        text-align: right;\n",
       "    }\n",
       "</style>\n",
       "<table border=\"1\" class=\"dataframe\">\n",
       "  <thead>\n",
       "    <tr style=\"text-align: right;\">\n",
       "      <th></th>\n",
       "      <th>SID</th>\n",
       "      <th>DID</th>\n",
       "      <th>birth wt</th>\n",
       "      <th>Birthyr</th>\n",
       "      <th>Energy</th>\n",
       "      <th>yr</th>\n",
       "      <th>antler kg</th>\n",
       "      <th>bm kg</th>\n",
       "      <th>DaB</th>\n",
       "      <th>Lit type</th>\n",
       "    </tr>\n",
       "  </thead>\n",
       "  <tbody>\n",
       "    <tr>\n",
       "      <th>0</th>\n",
       "      <td>1210039</td>\n",
       "      <td>2209018</td>\n",
       "      <td>2.839488</td>\n",
       "      <td>2012</td>\n",
       "      <td>L</td>\n",
       "      <td>2017</td>\n",
       "      <td>1.3412</td>\n",
       "      <td>71.894332</td>\n",
       "      <td>3.0</td>\n",
       "      <td>M</td>\n",
       "    </tr>\n",
       "    <tr>\n",
       "      <th>1</th>\n",
       "      <td>1210039</td>\n",
       "      <td>2209018</td>\n",
       "      <td>2.440327</td>\n",
       "      <td>2012</td>\n",
       "      <td>S</td>\n",
       "      <td>2017</td>\n",
       "      <td>1.7936</td>\n",
       "      <td>79.378600</td>\n",
       "      <td>3.0</td>\n",
       "      <td>M</td>\n",
       "    </tr>\n",
       "    <tr>\n",
       "      <th>2</th>\n",
       "      <td>1209020</td>\n",
       "      <td>2210086</td>\n",
       "      <td>3.646883</td>\n",
       "      <td>2012</td>\n",
       "      <td>L</td>\n",
       "      <td>2017</td>\n",
       "      <td>1.4977</td>\n",
       "      <td>80.739376</td>\n",
       "      <td>2.0</td>\n",
       "      <td>S</td>\n",
       "    </tr>\n",
       "    <tr>\n",
       "      <th>3</th>\n",
       "      <td>1209020</td>\n",
       "      <td>2207013</td>\n",
       "      <td>2.648979</td>\n",
       "      <td>2012</td>\n",
       "      <td>S</td>\n",
       "      <td>2017</td>\n",
       "      <td>1.8054</td>\n",
       "      <td>87.996848</td>\n",
       "      <td>5.0</td>\n",
       "      <td>M</td>\n",
       "    </tr>\n",
       "    <tr>\n",
       "      <th>4</th>\n",
       "      <td>1210097</td>\n",
       "      <td>2207005</td>\n",
       "      <td>2.240746</td>\n",
       "      <td>2012</td>\n",
       "      <td>L</td>\n",
       "      <td>2017</td>\n",
       "      <td>1.6849</td>\n",
       "      <td>77.564232</td>\n",
       "      <td>5.0</td>\n",
       "      <td>M</td>\n",
       "    </tr>\n",
       "    <tr>\n",
       "      <th>5</th>\n",
       "      <td>1210097</td>\n",
       "      <td>2209047</td>\n",
       "      <td>3.456374</td>\n",
       "      <td>2012</td>\n",
       "      <td>L</td>\n",
       "      <td>2017</td>\n",
       "      <td>0.9595</td>\n",
       "      <td>83.007336</td>\n",
       "      <td>3.0</td>\n",
       "      <td>M</td>\n",
       "    </tr>\n",
       "    <tr>\n",
       "      <th>6</th>\n",
       "      <td>1209029</td>\n",
       "      <td>2208036</td>\n",
       "      <td>2.186315</td>\n",
       "      <td>2012</td>\n",
       "      <td>S</td>\n",
       "      <td>2017</td>\n",
       "      <td>2.2405</td>\n",
       "      <td>81.419764</td>\n",
       "      <td>4.0</td>\n",
       "      <td>M</td>\n",
       "    </tr>\n",
       "    <tr>\n",
       "      <th>7</th>\n",
       "      <td>1210045</td>\n",
       "      <td>2207029</td>\n",
       "      <td>1.678292</td>\n",
       "      <td>2012</td>\n",
       "      <td>S</td>\n",
       "      <td>2017</td>\n",
       "      <td>1.4923</td>\n",
       "      <td>89.357624</td>\n",
       "      <td>5.0</td>\n",
       "      <td>M</td>\n",
       "    </tr>\n",
       "    <tr>\n",
       "      <th>8</th>\n",
       "      <td>1210097</td>\n",
       "      <td>2209016</td>\n",
       "      <td>2.821345</td>\n",
       "      <td>2012</td>\n",
       "      <td>L</td>\n",
       "      <td>2017</td>\n",
       "      <td>1.2497</td>\n",
       "      <td>75.296272</td>\n",
       "      <td>3.0</td>\n",
       "      <td>M</td>\n",
       "    </tr>\n",
       "    <tr>\n",
       "      <th>9</th>\n",
       "      <td>1209029</td>\n",
       "      <td>2210010</td>\n",
       "      <td>2.131884</td>\n",
       "      <td>2012</td>\n",
       "      <td>S</td>\n",
       "      <td>2017</td>\n",
       "      <td>1.3397</td>\n",
       "      <td>67.585208</td>\n",
       "      <td>2.0</td>\n",
       "      <td>M</td>\n",
       "    </tr>\n",
       "    <tr>\n",
       "      <th>10</th>\n",
       "      <td>1210039</td>\n",
       "      <td>2210067</td>\n",
       "      <td>2.313321</td>\n",
       "      <td>2012</td>\n",
       "      <td>S</td>\n",
       "      <td>2017</td>\n",
       "      <td>0.9216</td>\n",
       "      <td>83.460928</td>\n",
       "      <td>2.0</td>\n",
       "      <td>M</td>\n",
       "    </tr>\n",
       "    <tr>\n",
       "      <th>11</th>\n",
       "      <td>1210045</td>\n",
       "      <td>2209026</td>\n",
       "      <td>2.331465</td>\n",
       "      <td>2012</td>\n",
       "      <td>S</td>\n",
       "      <td>2017</td>\n",
       "      <td>1.3134</td>\n",
       "      <td>94.800728</td>\n",
       "      <td>3.0</td>\n",
       "      <td>M</td>\n",
       "    </tr>\n",
       "    <tr>\n",
       "      <th>12</th>\n",
       "      <td>1210015</td>\n",
       "      <td>2208035</td>\n",
       "      <td>3.057213</td>\n",
       "      <td>2014</td>\n",
       "      <td>S</td>\n",
       "      <td>2019</td>\n",
       "      <td>1.4208</td>\n",
       "      <td>103.418976</td>\n",
       "      <td>6.0</td>\n",
       "      <td>M</td>\n",
       "    </tr>\n",
       "    <tr>\n",
       "      <th>13</th>\n",
       "      <td>1210089</td>\n",
       "      <td>2209024</td>\n",
       "      <td>2.785057</td>\n",
       "      <td>2014</td>\n",
       "      <td>L</td>\n",
       "      <td>2019</td>\n",
       "      <td>1.2422</td>\n",
       "      <td>88.450440</td>\n",
       "      <td>5.0</td>\n",
       "      <td>M</td>\n",
       "    </tr>\n",
       "    <tr>\n",
       "      <th>16</th>\n",
       "      <td>1210060</td>\n",
       "      <td>2211038</td>\n",
       "      <td>2.195387</td>\n",
       "      <td>2014</td>\n",
       "      <td>L</td>\n",
       "      <td>2019</td>\n",
       "      <td>1.0541</td>\n",
       "      <td>83.234132</td>\n",
       "      <td>3.0</td>\n",
       "      <td>M</td>\n",
       "    </tr>\n",
       "    <tr>\n",
       "      <th>17</th>\n",
       "      <td>1210045</td>\n",
       "      <td>2210057</td>\n",
       "      <td>2.050238</td>\n",
       "      <td>2014</td>\n",
       "      <td>L</td>\n",
       "      <td>2019</td>\n",
       "      <td>0.9072</td>\n",
       "      <td>76.883844</td>\n",
       "      <td>4.0</td>\n",
       "      <td>M</td>\n",
       "    </tr>\n",
       "    <tr>\n",
       "      <th>19</th>\n",
       "      <td>1210069</td>\n",
       "      <td>2211009</td>\n",
       "      <td>1.678292</td>\n",
       "      <td>2014</td>\n",
       "      <td>L</td>\n",
       "      <td>2019</td>\n",
       "      <td>1.2242</td>\n",
       "      <td>79.605396</td>\n",
       "      <td>2.0</td>\n",
       "      <td>M</td>\n",
       "    </tr>\n",
       "    <tr>\n",
       "      <th>20</th>\n",
       "      <td>1210069</td>\n",
       "      <td>2208011</td>\n",
       "      <td>2.385896</td>\n",
       "      <td>2014</td>\n",
       "      <td>L</td>\n",
       "      <td>2019</td>\n",
       "      <td>0.7923</td>\n",
       "      <td>81.419764</td>\n",
       "      <td>6.0</td>\n",
       "      <td>M</td>\n",
       "    </tr>\n",
       "    <tr>\n",
       "      <th>22</th>\n",
       "      <td>1210069</td>\n",
       "      <td>2210064</td>\n",
       "      <td>2.558261</td>\n",
       "      <td>2014</td>\n",
       "      <td>L</td>\n",
       "      <td>2019</td>\n",
       "      <td>1.3405</td>\n",
       "      <td>78.698212</td>\n",
       "      <td>4.0</td>\n",
       "      <td>M</td>\n",
       "    </tr>\n",
       "    <tr>\n",
       "      <th>25</th>\n",
       "      <td>1210069</td>\n",
       "      <td>2211094</td>\n",
       "      <td>2.422183</td>\n",
       "      <td>2014</td>\n",
       "      <td>L</td>\n",
       "      <td>2019</td>\n",
       "      <td>1.3123</td>\n",
       "      <td>90.264808</td>\n",
       "      <td>3.0</td>\n",
       "      <td>M</td>\n",
       "    </tr>\n",
       "    <tr>\n",
       "      <th>26</th>\n",
       "      <td>1210015</td>\n",
       "      <td>2211067</td>\n",
       "      <td>3.356584</td>\n",
       "      <td>2014</td>\n",
       "      <td>S</td>\n",
       "      <td>2019</td>\n",
       "      <td>1.3986</td>\n",
       "      <td>106.594120</td>\n",
       "      <td>4.0</td>\n",
       "      <td>M</td>\n",
       "    </tr>\n",
       "    <tr>\n",
       "      <th>29</th>\n",
       "      <td>1210015</td>\n",
       "      <td>2211018</td>\n",
       "      <td>3.120716</td>\n",
       "      <td>2014</td>\n",
       "      <td>L</td>\n",
       "      <td>2019</td>\n",
       "      <td>1.3261</td>\n",
       "      <td>92.079176</td>\n",
       "      <td>3.0</td>\n",
       "      <td>M</td>\n",
       "    </tr>\n",
       "    <tr>\n",
       "      <th>31</th>\n",
       "      <td>1210045</td>\n",
       "      <td>2210066</td>\n",
       "      <td>2.857632</td>\n",
       "      <td>2014</td>\n",
       "      <td>L</td>\n",
       "      <td>2019</td>\n",
       "      <td>1.7832</td>\n",
       "      <td>70.760352</td>\n",
       "      <td>4.0</td>\n",
       "      <td>M</td>\n",
       "    </tr>\n",
       "    <tr>\n",
       "      <th>32</th>\n",
       "      <td>1210089</td>\n",
       "      <td>2211029</td>\n",
       "      <td>1.850657</td>\n",
       "      <td>2014</td>\n",
       "      <td>L</td>\n",
       "      <td>2019</td>\n",
       "      <td>0.4754</td>\n",
       "      <td>40.097533</td>\n",
       "      <td>3.0</td>\n",
       "      <td>S</td>\n",
       "    </tr>\n",
       "    <tr>\n",
       "      <th>33</th>\n",
       "      <td>1210015</td>\n",
       "      <td>2209015</td>\n",
       "      <td>2.331465</td>\n",
       "      <td>2014</td>\n",
       "      <td>L</td>\n",
       "      <td>2019</td>\n",
       "      <td>1.2775</td>\n",
       "      <td>81.192968</td>\n",
       "      <td>5.0</td>\n",
       "      <td>M</td>\n",
       "    </tr>\n",
       "    <tr>\n",
       "      <th>34</th>\n",
       "      <td>1210045</td>\n",
       "      <td>2210082</td>\n",
       "      <td>2.694339</td>\n",
       "      <td>2014</td>\n",
       "      <td>L</td>\n",
       "      <td>2019</td>\n",
       "      <td>1.5487</td>\n",
       "      <td>89.130828</td>\n",
       "      <td>3.0</td>\n",
       "      <td>M</td>\n",
       "    </tr>\n",
       "  </tbody>\n",
       "</table>\n",
       "</div>"
      ],
      "text/plain": [
       "        SID      DID  birth wt   Birthyr Energy    yr  antler kg       bm kg  \\\n",
       "0   1210039  2209018   2.839488     2012      L  2017     1.3412   71.894332   \n",
       "1   1210039  2209018   2.440327     2012      S  2017     1.7936   79.378600   \n",
       "2   1209020  2210086   3.646883     2012      L  2017     1.4977   80.739376   \n",
       "3   1209020  2207013   2.648979     2012      S  2017     1.8054   87.996848   \n",
       "4   1210097  2207005   2.240746     2012      L  2017     1.6849   77.564232   \n",
       "5   1210097  2209047   3.456374     2012      L  2017     0.9595   83.007336   \n",
       "6   1209029  2208036   2.186315     2012      S  2017     2.2405   81.419764   \n",
       "7   1210045  2207029   1.678292     2012      S  2017     1.4923   89.357624   \n",
       "8   1210097  2209016   2.821345     2012      L  2017     1.2497   75.296272   \n",
       "9   1209029  2210010   2.131884     2012      S  2017     1.3397   67.585208   \n",
       "10  1210039  2210067   2.313321     2012      S  2017     0.9216   83.460928   \n",
       "11  1210045  2209026   2.331465     2012      S  2017     1.3134   94.800728   \n",
       "12  1210015  2208035   3.057213     2014      S  2019     1.4208  103.418976   \n",
       "13  1210089  2209024   2.785057     2014      L  2019     1.2422   88.450440   \n",
       "16  1210060  2211038   2.195387     2014      L  2019     1.0541   83.234132   \n",
       "17  1210045  2210057   2.050238     2014      L  2019     0.9072   76.883844   \n",
       "19  1210069  2211009   1.678292     2014      L  2019     1.2242   79.605396   \n",
       "20  1210069  2208011   2.385896     2014      L  2019     0.7923   81.419764   \n",
       "22  1210069  2210064   2.558261     2014      L  2019     1.3405   78.698212   \n",
       "25  1210069  2211094   2.422183     2014      L  2019     1.3123   90.264808   \n",
       "26  1210015  2211067   3.356584     2014      S  2019     1.3986  106.594120   \n",
       "29  1210015  2211018   3.120716     2014      L  2019     1.3261   92.079176   \n",
       "31  1210045  2210066   2.857632     2014      L  2019     1.7832   70.760352   \n",
       "32  1210089  2211029   1.850657     2014      L  2019     0.4754   40.097533   \n",
       "33  1210015  2209015   2.331465     2014      L  2019     1.2775   81.192968   \n",
       "34  1210045  2210082   2.694339     2014      L  2019     1.5487   89.130828   \n",
       "\n",
       "    DaB Lit type  \n",
       "0   3.0        M  \n",
       "1   3.0        M  \n",
       "2   2.0        S  \n",
       "3   5.0        M  \n",
       "4   5.0        M  \n",
       "5   3.0        M  \n",
       "6   4.0        M  \n",
       "7   5.0        M  \n",
       "8   3.0        M  \n",
       "9   2.0        M  \n",
       "10  2.0        M  \n",
       "11  3.0        M  \n",
       "12  6.0        M  \n",
       "13  5.0        M  \n",
       "16  3.0        M  \n",
       "17  4.0        M  \n",
       "19  2.0        M  \n",
       "20  6.0        M  \n",
       "22  4.0        M  \n",
       "25  3.0        M  \n",
       "26  4.0        M  \n",
       "29  3.0        M  \n",
       "31  4.0        M  \n",
       "32  3.0        S  \n",
       "33  5.0        M  \n",
       "34  3.0        M  "
      ]
     },
     "execution_count": 8,
     "metadata": {},
     "output_type": "execute_result"
    }
   ],
   "source": [
    "data_5_ALL.dropna()"
   ]
  },
  {
   "cell_type": "code",
   "execution_count": 9,
   "id": "c8d0a85a",
   "metadata": {},
   "outputs": [],
   "source": [
    "from sklearn.preprocessing import OrdinalEncoder, LabelEncoder\n",
    "\n",
    "le = LabelEncoder()\n",
    "data_4['Energy'] = le.fit_transform(data_4['Energy'])\n",
    "data_4['antler kg'] = le.fit_transform(data_4['antler kg'])\n",
    "data_4['bm kg'] = le.fit_transform(data_4['bm kg'])"
   ]
  },
  {
   "cell_type": "code",
   "execution_count": 10,
   "id": "34d5c1bc",
   "metadata": {},
   "outputs": [],
   "source": [
    "from sklearn.preprocessing import OrdinalEncoder, LabelEncoder\n",
    "\n",
    "le = LabelEncoder()\n",
    "data_4_ALL['Energy'] = le.fit_transform(data_4_ALL['Energy'])\n",
    "data_4_ALL['antler kg'] = le.fit_transform(data_4_ALL['antler kg'])\n",
    "data_4_ALL['bm kg'] = le.fit_transform(data_4_ALL['bm kg'])\n",
    "data_4_ALL['Lit type'] = le.fit_transform(data_4_ALL['Lit type'])\n",
    "data_4_ALL['DaB'] = le.fit_transform(data_4_ALL['DaB'])"
   ]
  },
  {
   "cell_type": "code",
   "execution_count": 11,
   "id": "934b609e",
   "metadata": {},
   "outputs": [],
   "source": [
    "from sklearn.preprocessing import OrdinalEncoder, LabelEncoder\n",
    "\n",
    "le = LabelEncoder()\n",
    "data_5['Energy'] = le.fit_transform(data_5['Energy'])\n",
    "data_5['antler kg'] = le.fit_transform(data_5['antler kg'])\n",
    "data_5['bm kg'] = le.fit_transform(data_5['bm kg'])"
   ]
  },
  {
   "cell_type": "code",
   "execution_count": 12,
   "id": "f189d2e7",
   "metadata": {},
   "outputs": [],
   "source": [
    "from sklearn.preprocessing import OrdinalEncoder, LabelEncoder\n",
    "\n",
    "le = LabelEncoder()\n",
    "data_5_ALL['Energy'] = le.fit_transform(data_5_ALL['Energy'])\n",
    "data_5_ALL['antler kg'] = le.fit_transform(data_5_ALL['antler kg'])\n",
    "data_5_ALL['bm kg'] = le.fit_transform(data_5_ALL['bm kg'])\n",
    "data_5_ALL['Lit type'] = le.fit_transform(data_5_ALL['Lit type'])\n",
    "data_5_ALL['DaB'] = le.fit_transform(data_5_ALL['DaB'])"
   ]
  },
  {
   "cell_type": "markdown",
   "id": "d5ac47c7",
   "metadata": {},
   "source": [
    "## 5. Creating the test and train data sets"
   ]
  },
  {
   "cell_type": "code",
   "execution_count": 13,
   "id": "2f69abff",
   "metadata": {},
   "outputs": [],
   "source": [
    "X_a = data_4.drop(['antler kg'], axis=1)\n",
    "y_a = data_4['antler kg']"
   ]
  },
  {
   "cell_type": "code",
   "execution_count": 14,
   "id": "e0102227",
   "metadata": {},
   "outputs": [],
   "source": [
    "X_b = data_4_ALL.drop(['antler kg'], axis=1)\n",
    "y_b = data_4_ALL['antler kg']"
   ]
  },
  {
   "cell_type": "code",
   "execution_count": 15,
   "id": "208480b2",
   "metadata": {},
   "outputs": [],
   "source": [
    "X = data_5.drop(['antler kg'], axis=1)\n",
    "y = data_5['antler kg']"
   ]
  },
  {
   "cell_type": "code",
   "execution_count": 16,
   "id": "8f69b383",
   "metadata": {},
   "outputs": [],
   "source": [
    "X_1 = data_5_ALL.drop(['antler kg'], axis=1)\n",
    "y_1 = data_5_ALL['antler kg']"
   ]
  },
  {
   "cell_type": "code",
   "execution_count": 17,
   "id": "8b5c049f",
   "metadata": {},
   "outputs": [],
   "source": [
    "from sklearn.model_selection import train_test_split\n",
    "\n",
    "X_train_a, X_test_a, y_train_a, y_test_a = train_test_split(X_a, y_a, test_size=0.2,random_state=25)"
   ]
  },
  {
   "cell_type": "code",
   "execution_count": 18,
   "id": "013f0774",
   "metadata": {},
   "outputs": [],
   "source": [
    "from sklearn.model_selection import train_test_split\n",
    "\n",
    "X_train_b, X_test_b, y_train_b, y_test_b = train_test_split(X_b, y_b, test_size=0.2,random_state=25)"
   ]
  },
  {
   "cell_type": "code",
   "execution_count": 19,
   "id": "0b2c7aad",
   "metadata": {},
   "outputs": [],
   "source": [
    "from sklearn.model_selection import train_test_split\n",
    "\n",
    "X_train, X_test, y_train, y_test = train_test_split(X, y, test_size=0.2,random_state=25)"
   ]
  },
  {
   "cell_type": "code",
   "execution_count": 20,
   "id": "3bafcb95",
   "metadata": {},
   "outputs": [],
   "source": [
    "from sklearn.model_selection import train_test_split\n",
    "\n",
    "X_train_1, X_test_1, y_train_1, y_test_1 = train_test_split(X_1, y_1, test_size=0.2,random_state=25)"
   ]
  },
  {
   "cell_type": "markdown",
   "id": "0b3438db",
   "metadata": {},
   "source": [
    "## 5. Modeling"
   ]
  },
  {
   "cell_type": "markdown",
   "id": "47b0bb49",
   "metadata": {},
   "source": [
    "### A. Random Forest"
   ]
  },
  {
   "cell_type": "markdown",
   "id": "0d2bbdc5",
   "metadata": {},
   "source": [
    "#### a. 4.5-year-olds"
   ]
  },
  {
   "cell_type": "code",
   "execution_count": 21,
   "id": "9f73fa89",
   "metadata": {},
   "outputs": [
    {
     "name": "stdout",
     "output_type": "stream",
     "text": [
      "21.4375\n"
     ]
    }
   ],
   "source": [
    "from sklearn.ensemble import RandomForestClassifier\n",
    "\n",
    "rfc_a = RandomForestClassifier(random_state=0)\n",
    "\n",
    "rfc_a.fit(X_train_a, y_train_a)\n",
    "\n",
    "y_pred_rfc_a=rfc_a.predict(X_test_a)\n",
    "\n",
    "print(mean_absolute_error(y_test_a,y_pred_rfc_a))"
   ]
  },
  {
   "cell_type": "code",
   "execution_count": 22,
   "id": "a03464de",
   "metadata": {},
   "outputs": [
    {
     "name": "stdout",
     "output_type": "stream",
     "text": [
      "24.6875\n"
     ]
    }
   ],
   "source": [
    "from sklearn.ensemble import RandomForestClassifier\n",
    "\n",
    "rfc_b = RandomForestClassifier(random_state=0)\n",
    "\n",
    "rfc_b.fit(X_train_b, y_train_b)\n",
    "\n",
    "y_pred_rfc_b=rfc_b.predict(X_test_b)\n",
    "\n",
    "print(mean_absolute_error(y_test_b,y_pred_rfc_b))"
   ]
  },
  {
   "cell_type": "markdown",
   "id": "8f33f503",
   "metadata": {},
   "source": [
    "#### 5.5-year-olds"
   ]
  },
  {
   "cell_type": "code",
   "execution_count": 23,
   "id": "51d96905",
   "metadata": {},
   "outputs": [
    {
     "name": "stdout",
     "output_type": "stream",
     "text": [
      "17.75\n"
     ]
    }
   ],
   "source": [
    "from sklearn.ensemble import RandomForestClassifier\n",
    "\n",
    "rfc = RandomForestClassifier(random_state=0)\n",
    "\n",
    "rfc.fit(X_train, y_train)\n",
    "\n",
    "y_pred_rfc=rfc.predict(X_test)\n",
    "\n",
    "print(mean_absolute_error(y_test,y_pred_rfc))"
   ]
  },
  {
   "cell_type": "code",
   "execution_count": 24,
   "id": "c8835f28",
   "metadata": {},
   "outputs": [
    {
     "name": "stdout",
     "output_type": "stream",
     "text": [
      "13.75\n"
     ]
    }
   ],
   "source": [
    "from sklearn.ensemble import RandomForestClassifier\n",
    "\n",
    "\n",
    "rfc_1 = RandomForestClassifier(random_state=0)\n",
    "\n",
    "rfc_1.fit(X_train_1, y_train_1)\n",
    "\n",
    "y_pred_rfc_1=rfc_1.predict(X_test_1)\n",
    "\n",
    "print(mean_absolute_error(y_test_1,y_pred_rfc_1))"
   ]
  },
  {
   "cell_type": "markdown",
   "id": "d0264af0",
   "metadata": {},
   "source": [
    "### B. Gradient Boosting Classifier"
   ]
  },
  {
   "cell_type": "markdown",
   "id": "b5798edf",
   "metadata": {},
   "source": [
    "#### a. 4.5-year-olds"
   ]
  },
  {
   "cell_type": "code",
   "execution_count": 25,
   "id": "ad500783",
   "metadata": {},
   "outputs": [
    {
     "name": "stdout",
     "output_type": "stream",
     "text": [
      "15.089030875593137\n"
     ]
    }
   ],
   "source": [
    "from sklearn.ensemble import GradientBoostingClassifier\n",
    "\n",
    "gb_a = GradientBoostingRegressor(random_state = 0)\n",
    "\n",
    "gb_a.fit(X_train_a, y_train_a)\n",
    "\n",
    "y_pred_gb_a = gb_a.predict(X_test_a)\n",
    "\n",
    "print(mean_absolute_error(y_test_a,y_pred_gb_a))"
   ]
  },
  {
   "cell_type": "code",
   "execution_count": 26,
   "id": "420c2e0b",
   "metadata": {},
   "outputs": [
    {
     "name": "stdout",
     "output_type": "stream",
     "text": [
      "15.647350724406188\n"
     ]
    }
   ],
   "source": [
    "from sklearn.ensemble import GradientBoostingClassifier\n",
    "\n",
    "gb_b = GradientBoostingRegressor(random_state = 0)\n",
    "\n",
    "gb_b.fit(X_train_b, y_train_b)\n",
    "\n",
    "y_pred_gb_b = gb_b.predict(X_test_b)\n",
    "\n",
    "print(mean_absolute_error(y_test_b,y_pred_gb_b))"
   ]
  },
  {
   "cell_type": "markdown",
   "id": "fef5a534",
   "metadata": {},
   "source": [
    "#### b. 5.5-year-olds"
   ]
  },
  {
   "cell_type": "code",
   "execution_count": 27,
   "id": "9f6200cc",
   "metadata": {},
   "outputs": [
    {
     "name": "stdout",
     "output_type": "stream",
     "text": [
      "10.115024103599644\n"
     ]
    }
   ],
   "source": [
    "from sklearn.ensemble import GradientBoostingClassifier\n",
    "\n",
    "gb_1 = GradientBoostingRegressor(random_state = 0)\n",
    "\n",
    "gb_1.fit(X_train_1, y_train_1)\n",
    "\n",
    "y_pred_gb_1 = gb_1.predict(X_test_1)\n",
    "\n",
    "print(mean_absolute_error(y_test_1,y_pred_gb_1))"
   ]
  },
  {
   "cell_type": "code",
   "execution_count": 28,
   "id": "8f485ed9",
   "metadata": {},
   "outputs": [
    {
     "name": "stdout",
     "output_type": "stream",
     "text": [
      "10.951958890665821\n"
     ]
    }
   ],
   "source": [
    "from sklearn.ensemble import GradientBoostingClassifier\n",
    "\n",
    "gb = GradientBoostingRegressor(random_state = 0)\n",
    "\n",
    "gb.fit(X_train, y_train)\n",
    "\n",
    "y_pred_gb = gb.predict(X_test)\n",
    "\n",
    "print(mean_absolute_error(y_test,y_pred_gb))"
   ]
  },
  {
   "cell_type": "markdown",
   "id": "22996560",
   "metadata": {},
   "source": [
    "### Gradient Boosting Classifier (GBC) performed best (i.e., had the least mean absolute error) for all datasets "
   ]
  },
  {
   "cell_type": "markdown",
   "id": "da98218e",
   "metadata": {},
   "source": [
    "## 6. Important Features"
   ]
  },
  {
   "cell_type": "markdown",
   "id": "8cd6aafa",
   "metadata": {},
   "source": [
    "### A. 4.5-year-olds"
   ]
  },
  {
   "cell_type": "code",
   "execution_count": 29,
   "id": "9c8f1b32",
   "metadata": {},
   "outputs": [
    {
     "data": {
      "text/html": [
       "<div>\n",
       "<style scoped>\n",
       "    .dataframe tbody tr th:only-of-type {\n",
       "        vertical-align: middle;\n",
       "    }\n",
       "\n",
       "    .dataframe tbody tr th {\n",
       "        vertical-align: top;\n",
       "    }\n",
       "\n",
       "    .dataframe thead th {\n",
       "        text-align: right;\n",
       "    }\n",
       "</style>\n",
       "<table border=\"1\" class=\"dataframe\">\n",
       "  <thead>\n",
       "    <tr style=\"text-align: right;\">\n",
       "      <th></th>\n",
       "      <th>Importance</th>\n",
       "    </tr>\n",
       "  </thead>\n",
       "  <tbody>\n",
       "    <tr>\n",
       "      <th>birth wt</th>\n",
       "      <td>0.345563</td>\n",
       "    </tr>\n",
       "    <tr>\n",
       "      <th>bm kg</th>\n",
       "      <td>0.291083</td>\n",
       "    </tr>\n",
       "    <tr>\n",
       "      <th>DID</th>\n",
       "      <td>0.144889</td>\n",
       "    </tr>\n",
       "    <tr>\n",
       "      <th>SID</th>\n",
       "      <td>0.134981</td>\n",
       "    </tr>\n",
       "    <tr>\n",
       "      <th>Energy</th>\n",
       "      <td>0.066600</td>\n",
       "    </tr>\n",
       "    <tr>\n",
       "      <th>yr</th>\n",
       "      <td>0.010514</td>\n",
       "    </tr>\n",
       "    <tr>\n",
       "      <th>Birthyr</th>\n",
       "      <td>0.006370</td>\n",
       "    </tr>\n",
       "  </tbody>\n",
       "</table>\n",
       "</div>"
      ],
      "text/plain": [
       "           Importance\n",
       "birth wt     0.345563\n",
       "bm kg        0.291083\n",
       "DID          0.144889\n",
       "SID          0.134981\n",
       "Energy       0.066600\n",
       "yr           0.010514\n",
       "Birthyr      0.006370"
      ]
     },
     "execution_count": 29,
     "metadata": {},
     "output_type": "execute_result"
    }
   ],
   "source": [
    "feat_importances_a = pd.DataFrame(gb_a.feature_importances_, index=X_train_a.columns, columns=[\"Importance\"])\n",
    "feat_importances_a.sort_values(by='Importance', ascending=False, inplace=True)\n",
    "feat_importances_a"
   ]
  },
  {
   "cell_type": "code",
   "execution_count": 30,
   "id": "9827b853",
   "metadata": {},
   "outputs": [
    {
     "data": {
      "image/png": "[encoded data removed]",
      "text/plain": [
       "<Figure size 1440x720 with 1 Axes>"
      ]
     },
     "metadata": {
      "needs_background": "light"
     },
     "output_type": "display_data"
    }
   ],
   "source": [
    "feature_names_a = [col for col in X_train_a]\n",
    "feature_importances_a = gb_a.feature_importances_\n",
    "indices_a = np.argsort(feature_importances_a)[::-1]\n",
    "n = 5 # maximum feature importances displayed\n",
    "idx_a = indices_a[0:n] \n",
    "std = np.std(gb_a.feature_importances_)\n",
    "\n",
    "plt.figure(figsize=(20, 10))\n",
    "titlefont = 25\n",
    "plt.title(\"Features That Influence Antler Size of 4.5-year-old White-tailed Deer\", fontdict={'fontsize':titlefont})\n",
    "plt.bar(range(n), feature_importances_a[idx_a], color=\"b\", align=\"center\")\n",
    "xticksize = 20\n",
    "plt.xticks(range(n), [feature_names_a[id] for id in idx_a], rotation = 45, fontdict={'fontsize':xticksize}) \n",
    "plt.tick_params(axis='y', which='major', labelsize=20)\n",
    "plt.xlim([-1, n]) \n",
    "plt.show()"
   ]
  },
  {
   "cell_type": "code",
   "execution_count": 31,
   "id": "57e9ff23",
   "metadata": {},
   "outputs": [
    {
     "data": {
      "text/html": [
       "<div>\n",
       "<style scoped>\n",
       "    .dataframe tbody tr th:only-of-type {\n",
       "        vertical-align: middle;\n",
       "    }\n",
       "\n",
       "    .dataframe tbody tr th {\n",
       "        vertical-align: top;\n",
       "    }\n",
       "\n",
       "    .dataframe thead th {\n",
       "        text-align: right;\n",
       "    }\n",
       "</style>\n",
       "<table border=\"1\" class=\"dataframe\">\n",
       "  <thead>\n",
       "    <tr style=\"text-align: right;\">\n",
       "      <th></th>\n",
       "      <th>Importance</th>\n",
       "    </tr>\n",
       "  </thead>\n",
       "  <tbody>\n",
       "    <tr>\n",
       "      <th>birth wt</th>\n",
       "      <td>0.321918</td>\n",
       "    </tr>\n",
       "    <tr>\n",
       "      <th>bm kg</th>\n",
       "      <td>0.289987</td>\n",
       "    </tr>\n",
       "    <tr>\n",
       "      <th>SID</th>\n",
       "      <td>0.144697</td>\n",
       "    </tr>\n",
       "    <tr>\n",
       "      <th>DID</th>\n",
       "      <td>0.121892</td>\n",
       "    </tr>\n",
       "    <tr>\n",
       "      <th>Energy</th>\n",
       "      <td>0.061963</td>\n",
       "    </tr>\n",
       "    <tr>\n",
       "      <th>DaB</th>\n",
       "      <td>0.043156</td>\n",
       "    </tr>\n",
       "    <tr>\n",
       "      <th>Birthyr</th>\n",
       "      <td>0.009292</td>\n",
       "    </tr>\n",
       "    <tr>\n",
       "      <th>yr</th>\n",
       "      <td>0.005913</td>\n",
       "    </tr>\n",
       "    <tr>\n",
       "      <th>Lit type</th>\n",
       "      <td>0.001182</td>\n",
       "    </tr>\n",
       "  </tbody>\n",
       "</table>\n",
       "</div>"
      ],
      "text/plain": [
       "           Importance\n",
       "birth wt     0.321918\n",
       "bm kg        0.289987\n",
       "SID          0.144697\n",
       "DID          0.121892\n",
       "Energy       0.061963\n",
       "DaB          0.043156\n",
       "Birthyr      0.009292\n",
       "yr           0.005913\n",
       "Lit type     0.001182"
      ]
     },
     "execution_count": 31,
     "metadata": {},
     "output_type": "execute_result"
    }
   ],
   "source": [
    "feat_importances_b = pd.DataFrame(gb_b.feature_importances_, index=X_train_b.columns, columns=[\"Importance\"])\n",
    "feat_importances_b.sort_values(by='Importance', ascending=False, inplace=True)\n",
    "feat_importances_b"
   ]
  },
  {
   "cell_type": "code",
   "execution_count": 32,
   "id": "ace4ab54",
   "metadata": {},
   "outputs": [
    {
     "data": {
      "image/png": "[encoded data removed]",
      "text/plain": [
       "<Figure size 1440x720 with 1 Axes>"
      ]
     },
     "metadata": {
      "needs_background": "light"
     },
     "output_type": "display_data"
    }
   ],
   "source": [
    "feature_names_b = [col for col in X_train_b]\n",
    "feature_importances_b = gb_b.feature_importances_\n",
    "indices_b = np.argsort(feature_importances_b)[::-1]\n",
    "n = 5 # maximum feature importances displayed\n",
    "idx_b = indices_b[0:n] \n",
    "std = np.std(gb_b.feature_importances_)\n",
    "\n",
    "plt.figure(figsize=(20, 10))\n",
    "titlefont = 25\n",
    "plt.title(\"Features That Influence Antler Size of 4.5-year-old White-tailed Deer (Lit Type and DaB included)\", fontdict={'fontsize':titlefont})\n",
    "plt.bar(range(n), feature_importances_b[idx_b], color=\"b\", align=\"center\")\n",
    "xticksize = 20\n",
    "plt.xticks(range(n), [feature_names_b[id] for id in idx_b], rotation = 45, fontdict={'fontsize':xticksize}) \n",
    "plt.tick_params(axis='y', which='major', labelsize=20)\n",
    "plt.xlim([-1, n]) \n",
    "plt.show()"
   ]
  },
  {
   "cell_type": "markdown",
   "id": "dc9bd9a7",
   "metadata": {},
   "source": [
    "### B. 5.5-year-olds"
   ]
  },
  {
   "cell_type": "code",
   "execution_count": 33,
   "id": "0beff554",
   "metadata": {},
   "outputs": [
    {
     "data": {
      "text/html": [
       "<div>\n",
       "<style scoped>\n",
       "    .dataframe tbody tr th:only-of-type {\n",
       "        vertical-align: middle;\n",
       "    }\n",
       "\n",
       "    .dataframe tbody tr th {\n",
       "        vertical-align: top;\n",
       "    }\n",
       "\n",
       "    .dataframe thead th {\n",
       "        text-align: right;\n",
       "    }\n",
       "</style>\n",
       "<table border=\"1\" class=\"dataframe\">\n",
       "  <thead>\n",
       "    <tr style=\"text-align: right;\">\n",
       "      <th></th>\n",
       "      <th>Importance</th>\n",
       "    </tr>\n",
       "  </thead>\n",
       "  <tbody>\n",
       "    <tr>\n",
       "      <th>SID</th>\n",
       "      <td>0.297193</td>\n",
       "    </tr>\n",
       "    <tr>\n",
       "      <th>birth wt</th>\n",
       "      <td>0.266062</td>\n",
       "    </tr>\n",
       "    <tr>\n",
       "      <th>DID</th>\n",
       "      <td>0.184323</td>\n",
       "    </tr>\n",
       "    <tr>\n",
       "      <th>bm kg</th>\n",
       "      <td>0.149730</td>\n",
       "    </tr>\n",
       "    <tr>\n",
       "      <th>Energy</th>\n",
       "      <td>0.040173</td>\n",
       "    </tr>\n",
       "    <tr>\n",
       "      <th>Birthyr</th>\n",
       "      <td>0.034314</td>\n",
       "    </tr>\n",
       "    <tr>\n",
       "      <th>yr</th>\n",
       "      <td>0.028204</td>\n",
       "    </tr>\n",
       "  </tbody>\n",
       "</table>\n",
       "</div>"
      ],
      "text/plain": [
       "           Importance\n",
       "SID          0.297193\n",
       "birth wt     0.266062\n",
       "DID          0.184323\n",
       "bm kg        0.149730\n",
       "Energy       0.040173\n",
       "Birthyr      0.034314\n",
       "yr           0.028204"
      ]
     },
     "execution_count": 33,
     "metadata": {},
     "output_type": "execute_result"
    }
   ],
   "source": [
    "feat_importances = pd.DataFrame(gb.feature_importances_, index=X_train.columns, columns=[\"Importance\"])\n",
    "feat_importances.sort_values(by='Importance', ascending=False, inplace=True)\n",
    "feat_importances"
   ]
  },
  {
   "cell_type": "code",
   "execution_count": 34,
   "id": "a843d7de",
   "metadata": {},
   "outputs": [
    {
     "data": {
      "image/png": "[encoded data removed]",
      "text/plain": [
       "<Figure size 1440x720 with 1 Axes>"
      ]
     },
     "metadata": {
      "needs_background": "light"
     },
     "output_type": "display_data"
    }
   ],
   "source": [
    "feature_names = [col for col in X_train]\n",
    "feature_importances = gb.feature_importances_\n",
    "indices = np.argsort(feature_importances)[::-1]\n",
    "n = 5 # maximum feature importances displayed\n",
    "idx = indices[0:n] \n",
    "std = np.std(gb.feature_importances_)\n",
    "\n",
    "plt.figure(figsize=(20, 10))\n",
    "titlefont = 25\n",
    "plt.title(\"Features That Influence Antler Size of 5.5-year-old White-tailed Deer\", fontdict={'fontsize':titlefont})\n",
    "plt.bar(range(n), feature_importances[idx], color=\"b\", align=\"center\")\n",
    "xticksize = 20\n",
    "plt.xticks(range(n), [feature_names[id] for id in idx], rotation = 45, fontdict={'fontsize':xticksize}) \n",
    "plt.tick_params(axis='y', which='major', labelsize=20)\n",
    "plt.xlim([-1, n]) \n",
    "plt.show()\n",
    "\n"
   ]
  },
  {
   "cell_type": "code",
   "execution_count": 35,
   "id": "6fffb569",
   "metadata": {},
   "outputs": [
    {
     "data": {
      "text/html": [
       "<div>\n",
       "<style scoped>\n",
       "    .dataframe tbody tr th:only-of-type {\n",
       "        vertical-align: middle;\n",
       "    }\n",
       "\n",
       "    .dataframe tbody tr th {\n",
       "        vertical-align: top;\n",
       "    }\n",
       "\n",
       "    .dataframe thead th {\n",
       "        text-align: right;\n",
       "    }\n",
       "</style>\n",
       "<table border=\"1\" class=\"dataframe\">\n",
       "  <thead>\n",
       "    <tr style=\"text-align: right;\">\n",
       "      <th></th>\n",
       "      <th>Importance</th>\n",
       "    </tr>\n",
       "  </thead>\n",
       "  <tbody>\n",
       "    <tr>\n",
       "      <th>SID</th>\n",
       "      <td>0.307556</td>\n",
       "    </tr>\n",
       "    <tr>\n",
       "      <th>birth wt</th>\n",
       "      <td>0.254887</td>\n",
       "    </tr>\n",
       "    <tr>\n",
       "      <th>DID</th>\n",
       "      <td>0.168272</td>\n",
       "    </tr>\n",
       "    <tr>\n",
       "      <th>bm kg</th>\n",
       "      <td>0.159456</td>\n",
       "    </tr>\n",
       "    <tr>\n",
       "      <th>Birthyr</th>\n",
       "      <td>0.050000</td>\n",
       "    </tr>\n",
       "    <tr>\n",
       "      <th>Energy</th>\n",
       "      <td>0.040644</td>\n",
       "    </tr>\n",
       "    <tr>\n",
       "      <th>DaB</th>\n",
       "      <td>0.013003</td>\n",
       "    </tr>\n",
       "    <tr>\n",
       "      <th>yr</th>\n",
       "      <td>0.004656</td>\n",
       "    </tr>\n",
       "    <tr>\n",
       "      <th>Lit type</th>\n",
       "      <td>0.001526</td>\n",
       "    </tr>\n",
       "  </tbody>\n",
       "</table>\n",
       "</div>"
      ],
      "text/plain": [
       "           Importance\n",
       "SID          0.307556\n",
       "birth wt     0.254887\n",
       "DID          0.168272\n",
       "bm kg        0.159456\n",
       "Birthyr      0.050000\n",
       "Energy       0.040644\n",
       "DaB          0.013003\n",
       "yr           0.004656\n",
       "Lit type     0.001526"
      ]
     },
     "execution_count": 35,
     "metadata": {},
     "output_type": "execute_result"
    }
   ],
   "source": [
    "feat_importances_1 = pd.DataFrame(gb_1.feature_importances_, index=X_train_1.columns, columns=[\"Importance\"])\n",
    "feat_importances_1.sort_values(by='Importance', ascending=False, inplace=True)\n",
    "feat_importances_1"
   ]
  },
  {
   "cell_type": "code",
   "execution_count": 36,
   "id": "afdfe8c3",
   "metadata": {},
   "outputs": [
    {
     "data": {
      "image/png": "[encoded data removed]",
      "text/plain": [
       "<Figure size 1440x720 with 1 Axes>"
      ]
     },
     "metadata": {
      "needs_background": "light"
     },
     "output_type": "display_data"
    }
   ],
   "source": [
    "feature_names_1 = [col for col in X_train_1]\n",
    "feature_importances_1 = gb_1.feature_importances_\n",
    "indices_1 = np.argsort(feature_importances_1)[::-1]\n",
    "n = 5 # maximum feature importances displayed\n",
    "idx_1 = indices_1[0:n] \n",
    "std = np.std(gb_1.feature_importances_)\n",
    "\n",
    "plt.figure(figsize=(20, 10))\n",
    "titlefont = 25\n",
    "plt.title(\"Features That Influence Antler Size of 5.5-year-old White-tailed Deer (Lit Type and DaB included)\", fontdict={'fontsize':titlefont})\n",
    "plt.bar(range(n), feature_importances_1[idx_1], color=\"b\", align=\"center\")\n",
    "xticksize = 20\n",
    "plt.xticks(range(n), [feature_names_1[id] for id in idx_1], rotation = 45, fontdict={'fontsize':xticksize}) \n",
    "plt.tick_params(axis='y', which='major', labelsize=20)\n",
    "plt.xlim([-1, n]) \n",
    "plt.show()"
   ]
  },
  {
   "cell_type": "markdown",
   "id": "a162e1f1",
   "metadata": {},
   "source": [
    "## 7. Implications"
   ]
  },
  {
   "cell_type": "markdown",
   "id": "012d7915",
   "metadata": {},
   "source": [
    "### A. 4.5-year-olds\n",
    "Antler size of 4.5 year-old males is most influenced by the birth weight of the male.  This is surprising that the birth weight of the male is predictive than the body mass of the individual male.  Interestingly, the effects from the father and mother are also influential, whether it be from their genetics, nutritional condition, or otherwise.  What's most surprising here is that, when it comes to determing antler size of mature males, it didn't really matter whether males had been eating a low or high energy diet throughout their life.  \n",
    "\n",
    "###  B. 5.5-year-olds\n",
    "Antler size of 5.5 year-old males is most influenced by the father (SID) followed by the birth weight of the male.\n",
    "\n",
    "### C. Commonalities and differences\n",
    "Birth weight of the male was the most influential predictor of 4.5 year olds and the second most influential of 5.5 year olds.  Also for both age groups, all Energy was less predictive than effects from birth weight, body mass, and effects frmo the mother and father (DID and SID). Interestingly, effects from the father are more apparent when individuals are 5.5 years old. "
   ]
  },
  {
   "cell_type": "code",
   "execution_count": null,
   "id": "b281a5ec",
   "metadata": {},
   "outputs": [],
   "source": []
  }
 ],
 "metadata": {
  "kernelspec": {
   "display_name": "Python 3 (ipykernel)",
   "language": "python",
   "name": "python3"
  },
  "language_info": {
   "codemirror_mode": {
    "name": "ipython",
    "version": 3
   },
   "file_extension": ".py",
   "mimetype": "text/x-python",
   "name": "python",
   "nbconvert_exporter": "python",
   "pygments_lexer": "ipython3",
   "version": "3.8.8"
  }
 },
 "nbformat": 4,
 "nbformat_minor": 5
}
