{
 "cells": [
  {
   "cell_type": "markdown",
   "id": "c8c41b30",
   "metadata": {},
   "source": [
    "## A. Predictors of Antler Size in 4.5- and 5.5-year-old Male White-tailed Deer\n",
    "\n",
    "## I. Import Libraries"
   ]
  },
  {
   "cell_type": "code",
   "execution_count": 1,
   "id": "267b5df6",
   "metadata": {},
   "outputs": [],
   "source": [
    "import pandas as pd\n",
    "import matplotlib.pyplot as plt\n",
    "import numpy as np\n",
    "from sklearn.model_selection import train_test_split\n",
    "from sklearn.metrics import mean_absolute_error\n",
    "from sklearn.ensemble import RandomForestRegressor\n",
    "from sklearn.ensemble import GradientBoostingRegressor\n",
    "from sklearn.preprocessing import OneHotEncoder\n",
    "from sklearn.preprocessing import OrdinalEncoder, LabelEncoder"
   ]
  },
  {
   "cell_type": "markdown",
   "id": "97c8b6b3",
   "metadata": {},
   "source": [
    "## 2. Data\n",
    "\n",
    "These two datasets include data collected from 4.5- and 5.5-year-old male white-tailed deer from a captive colony at the Kerr Wildlife Management Area.  Each dataset includes parentage information, age, birth year, diet type, antler mass, and body mass of male white-tailed deer."
   ]
  },
  {
   "cell_type": "markdown",
   "id": "8e561418",
   "metadata": {},
   "source": [
    "## 3. Goal: assess the influence from birth weight 'birth wt', mother 'DID', father 'SID', dietary intake 'Energy' where 'S'= 2.65 kcal/g; 'L'= 1.77 kcal/g), birth year 'birthyr', mother's age at birth 'DaB', litter type 'Lit type', and year data was collected 'yr' on antler size of 4.5- and 5.5-year-old males. "
   ]
  },
  {
   "cell_type": "code",
   "execution_count": 2,
   "id": "943e2f8d",
   "metadata": {},
   "outputs": [],
   "source": [
    "data_4 = pd.read_csv(\"Kerr_Data_4.5.csv\")\n",
    "\n",
    "data_4_ALL = pd.read_csv(\"Kerr_Data_4.5.csv\")\n",
    "\n",
    "data_5 = pd.read_csv(\"Kerr_Data_5.5.csv\")\n",
    "\n",
    "data_5_ALL = pd.read_csv(\"Kerr_Data_5.5.csv\")\n"
   ]
  },
  {
   "cell_type": "code",
   "execution_count": 3,
   "id": "5992ee4f",
   "metadata": {},
   "outputs": [
    {
     "data": {
      "text/plain": [
       "SID             int64\n",
       "DID             int64\n",
       "ID              int64\n",
       "birth wt      float64\n",
       "Birthyr         int64\n",
       "Birthyrcat     object\n",
       "Energy         object\n",
       "yr              int64\n",
       "age           float64\n",
       "antler kg     float64\n",
       "bm kg         float64\n",
       "DaB           float64\n",
       "Lit type       object\n",
       "dtype: object"
      ]
     },
     "execution_count": 3,
     "metadata": {},
     "output_type": "execute_result"
    }
   ],
   "source": [
    "data_4_ALL.dtypes"
   ]
  },
  {
   "cell_type": "markdown",
   "id": "46fc0061",
   "metadata": {},
   "source": [
    "## 4. Data Cleaning\n",
    "\n",
    "Variables 'Birthyrcat', 'Age', and 'ID' will be dropped from all datasets. 'Age' will be dropped because we already know that older deer have larger antlers. DaB and Lit Type will be dropped in 2 of the 4 datasets analyzed since they have some NA values and we will have more data in the other two datasets by doing so. Thus, four datasets were analyzed separately."
   ]
  },
  {
   "cell_type": "code",
   "execution_count": 4,
   "id": "ccb87f46",
   "metadata": {},
   "outputs": [],
   "source": [
    "data_4.drop(['age','Birthyrcat','ID','DaB','Lit type'],axis=1, inplace=True)"
   ]
  },
  {
   "cell_type": "code",
   "execution_count": 5,
   "id": "f90864f2",
   "metadata": {},
   "outputs": [],
   "source": [
    "data_4_ALL.drop(['age','Birthyrcat','ID'],axis=1, inplace=True)"
   ]
  },
  {
   "cell_type": "code",
   "execution_count": 6,
   "id": "005989f6",
   "metadata": {},
   "outputs": [],
   "source": [
    "data_5.drop(['age','Birthyrcat','ID','DaB','Lit type'],axis=1, inplace=True)"
   ]
  },
  {
   "cell_type": "code",
   "execution_count": 7,
   "id": "467cad09",
   "metadata": {},
   "outputs": [],
   "source": [
    "data_5_ALL.drop(['age','Birthyrcat','ID'],axis=1, inplace=True)"
   ]
  },
  {
   "cell_type": "code",
   "execution_count": 8,
   "id": "767d6ead",
   "metadata": {},
   "outputs": [],
   "source": [
    "data_4_ALL.dropna(how='any', inplace=True)"
   ]
  },
  {
   "cell_type": "code",
   "execution_count": 9,
   "id": "cae93e15",
   "metadata": {},
   "outputs": [],
   "source": [
    "data_5_ALL.dropna(how='any', inplace=True)"
   ]
  },
  {
   "cell_type": "code",
   "execution_count": 10,
   "id": "c8d0a85a",
   "metadata": {},
   "outputs": [],
   "source": [
    "le = LabelEncoder()\n",
    "one_hot = OneHotEncoder()\n",
    "\n",
    "data_4['Energy'] = le.fit_transform(data_4['Energy'])\n",
    "\n",
    "data_4_ALL['Energy'] = le.fit_transform(data_4_ALL['Energy'])\n",
    "lit_4_encoded = one_hot.fit_transform(data_4_ALL[['Lit type']])\n",
    "data_4_ALL[one_hot.categories_[0]] = lit_4_encoded.toarray()\n",
    "\n",
    "data_5['Energy'] = le.fit_transform(data_5['Energy'])\n",
    "\n",
    "data_5_ALL['Energy'] = le.fit_transform(data_5_ALL['Energy'])\n",
    "lit_5_encoded = one_hot.fit_transform(data_5_ALL[['Lit type']])\n",
    "data_5_ALL[one_hot.categories_[0]] = lit_5_encoded.toarray()"
   ]
  },
  {
   "cell_type": "code",
   "execution_count": 11,
   "id": "f28a279d",
   "metadata": {},
   "outputs": [],
   "source": [
    "data_4_ALL = data_4_ALL.drop(columns=['Lit type'])\n",
    "data_5_ALL = data_5_ALL.drop(columns=['Lit type'])"
   ]
  },
  {
   "cell_type": "markdown",
   "id": "d5ac47c7",
   "metadata": {},
   "source": [
    "## 5. Creating the test and train data sets"
   ]
  },
  {
   "cell_type": "code",
   "execution_count": 12,
   "id": "2f69abff",
   "metadata": {},
   "outputs": [],
   "source": [
    "X_a = data_4.drop(['antler kg'], axis=1)\n",
    "y_a = data_4['antler kg']"
   ]
  },
  {
   "cell_type": "code",
   "execution_count": 13,
   "id": "e0102227",
   "metadata": {},
   "outputs": [],
   "source": [
    "X_b = data_4_ALL.drop(['antler kg'], axis=1)\n",
    "y_b = data_4_ALL['antler kg']"
   ]
  },
  {
   "cell_type": "code",
   "execution_count": 14,
   "id": "208480b2",
   "metadata": {},
   "outputs": [],
   "source": [
    "X = data_5.drop(['antler kg'], axis=1)\n",
    "y = data_5['antler kg']"
   ]
  },
  {
   "cell_type": "code",
   "execution_count": 15,
   "id": "8f69b383",
   "metadata": {},
   "outputs": [],
   "source": [
    "X_1 = data_5_ALL.drop(['antler kg'], axis=1)\n",
    "y_1 = data_5_ALL['antler kg']"
   ]
  },
  {
   "cell_type": "code",
   "execution_count": 16,
   "id": "8b5c049f",
   "metadata": {},
   "outputs": [],
   "source": [
    "X_train_a, X_test_a, y_train_a, y_test_a = train_test_split(X_a, y_a, test_size=0.2,random_state=25)\n",
    "X_train_b, X_test_b, y_train_b, y_test_b = train_test_split(X_b, y_b, test_size=0.2,random_state=25)\n",
    "X_train, X_test, y_train, y_test = train_test_split(X, y, test_size=0.2,random_state=25)\n",
    "X_train_1, X_test_1, y_train_1, y_test_1 = train_test_split(X_1, y_1, test_size=0.2,random_state=25)"
   ]
  },
  {
   "cell_type": "markdown",
   "id": "0b3438db",
   "metadata": {},
   "source": [
    "## 5. Modeling"
   ]
  },
  {
   "cell_type": "markdown",
   "id": "47b0bb49",
   "metadata": {},
   "source": [
    "### A. Random Forest Regressor"
   ]
  },
  {
   "cell_type": "markdown",
   "id": "0d2bbdc5",
   "metadata": {},
   "source": [
    "#### a. 4.5-year-olds"
   ]
  },
  {
   "cell_type": "code",
   "execution_count": 17,
   "id": "9f73fa89",
   "metadata": {},
   "outputs": [
    {
     "name": "stdout",
     "output_type": "stream",
     "text": [
      "0.26528900000000016\n"
     ]
    }
   ],
   "source": [
    "rfc_a = RandomForestRegressor(random_state=0)\n",
    "\n",
    "rfc_a.fit(X_train_a, y_train_a)\n",
    "\n",
    "y_pred_rfc_a=rfc_a.predict(X_test_a)\n",
    "\n",
    "print(mean_absolute_error(y_test_a,y_pred_rfc_a))"
   ]
  },
  {
   "cell_type": "code",
   "execution_count": 18,
   "id": "a03464de",
   "metadata": {},
   "outputs": [
    {
     "name": "stdout",
     "output_type": "stream",
     "text": [
      "0.20506907692307688\n"
     ]
    }
   ],
   "source": [
    "rfc_b = RandomForestRegressor(random_state=0)\n",
    "\n",
    "rfc_b.fit(X_train_b, y_train_b)\n",
    "\n",
    "y_pred_rfc_b=rfc_b.predict(X_test_b)\n",
    "\n",
    "print(mean_absolute_error(y_test_b,y_pred_rfc_b))"
   ]
  },
  {
   "cell_type": "markdown",
   "id": "8f33f503",
   "metadata": {},
   "source": [
    "#### 5.5-year-olds"
   ]
  },
  {
   "cell_type": "code",
   "execution_count": 19,
   "id": "51d96905",
   "metadata": {},
   "outputs": [
    {
     "name": "stdout",
     "output_type": "stream",
     "text": [
      "0.4140486249999999\n"
     ]
    }
   ],
   "source": [
    "rfc = RandomForestRegressor(random_state=0)\n",
    "\n",
    "rfc.fit(X_train, y_train)\n",
    "\n",
    "y_pred_rfc=rfc.predict(X_test)\n",
    "\n",
    "print(mean_absolute_error(y_test,y_pred_rfc))"
   ]
  },
  {
   "cell_type": "code",
   "execution_count": 20,
   "id": "c8835f28",
   "metadata": {},
   "outputs": [
    {
     "name": "stdout",
     "output_type": "stream",
     "text": [
      "0.2981956666666658\n"
     ]
    }
   ],
   "source": [
    "rfc_1 = RandomForestRegressor(random_state=0)\n",
    "\n",
    "rfc_1.fit(X_train_1, y_train_1)\n",
    "\n",
    "y_pred_rfc_1=rfc_1.predict(X_test_1)\n",
    "\n",
    "print(mean_absolute_error(y_test_1,y_pred_rfc_1))"
   ]
  },
  {
   "cell_type": "markdown",
   "id": "d0264af0",
   "metadata": {},
   "source": [
    "### B. Gradient Boosting Regressor"
   ]
  },
  {
   "cell_type": "markdown",
   "id": "b5798edf",
   "metadata": {},
   "source": [
    "#### a. 4.5-year-olds"
   ]
  },
  {
   "cell_type": "code",
   "execution_count": 21,
   "id": "ad500783",
   "metadata": {},
   "outputs": [
    {
     "name": "stdout",
     "output_type": "stream",
     "text": [
      "0.25107367475314996\n"
     ]
    }
   ],
   "source": [
    "gb_a = GradientBoostingRegressor(random_state = 0)\n",
    "\n",
    "gb_a.fit(X_train_a, y_train_a)\n",
    "\n",
    "y_pred_gb_a = gb_a.predict(X_test_a)\n",
    "\n",
    "print(mean_absolute_error(y_test_a,y_pred_gb_a))"
   ]
  },
  {
   "cell_type": "code",
   "execution_count": 22,
   "id": "420c2e0b",
   "metadata": {},
   "outputs": [
    {
     "name": "stdout",
     "output_type": "stream",
     "text": [
      "0.26337179686013923\n"
     ]
    }
   ],
   "source": [
    "gb_b = GradientBoostingRegressor(random_state = 0)\n",
    "\n",
    "gb_b.fit(X_train_b, y_train_b)\n",
    "\n",
    "y_pred_gb_b = gb_b.predict(X_test_b)\n",
    "\n",
    "print(mean_absolute_error(y_test_b,y_pred_gb_b))"
   ]
  },
  {
   "cell_type": "markdown",
   "id": "fef5a534",
   "metadata": {},
   "source": [
    "#### b. 5.5-year-olds"
   ]
  },
  {
   "cell_type": "code",
   "execution_count": 23,
   "id": "9f6200cc",
   "metadata": {},
   "outputs": [
    {
     "name": "stdout",
     "output_type": "stream",
     "text": [
      "0.4403141262208932\n"
     ]
    }
   ],
   "source": [
    "gb_1 = GradientBoostingRegressor(random_state = 0)\n",
    "\n",
    "gb_1.fit(X_train_1, y_train_1)\n",
    "\n",
    "y_pred_gb_1 = gb_1.predict(X_test_1)\n",
    "\n",
    "print(mean_absolute_error(y_test_1,y_pred_gb_1))"
   ]
  },
  {
   "cell_type": "code",
   "execution_count": 24,
   "id": "8f485ed9",
   "metadata": {},
   "outputs": [
    {
     "name": "stdout",
     "output_type": "stream",
     "text": [
      "0.33799443603021817\n"
     ]
    }
   ],
   "source": [
    "gb = GradientBoostingRegressor(random_state = 0)\n",
    "\n",
    "gb.fit(X_train, y_train)\n",
    "\n",
    "y_pred_gb = gb.predict(X_test)\n",
    "\n",
    "print(mean_absolute_error(y_test,y_pred_gb))"
   ]
  },
  {
   "cell_type": "markdown",
   "id": "22996560",
   "metadata": {},
   "source": [
    "### Gradient Boosting Classifier (GBC) performed best (i.e., had the least mean absolute error) for all datasets "
   ]
  },
  {
   "cell_type": "markdown",
   "id": "da98218e",
   "metadata": {},
   "source": [
    "## 6. Important Features"
   ]
  },
  {
   "cell_type": "markdown",
   "id": "8cd6aafa",
   "metadata": {},
   "source": [
    "### A. 4.5-year-olds"
   ]
  },
  {
   "cell_type": "code",
   "execution_count": 25,
   "id": "9c8f1b32",
   "metadata": {},
   "outputs": [
    {
     "data": {
      "text/html": [
       "<div>\n",
       "<style scoped>\n",
       "    .dataframe tbody tr th:only-of-type {\n",
       "        vertical-align: middle;\n",
       "    }\n",
       "\n",
       "    .dataframe tbody tr th {\n",
       "        vertical-align: top;\n",
       "    }\n",
       "\n",
       "    .dataframe thead th {\n",
       "        text-align: right;\n",
       "    }\n",
       "</style>\n",
       "<table border=\"1\" class=\"dataframe\">\n",
       "  <thead>\n",
       "    <tr style=\"text-align: right;\">\n",
       "      <th></th>\n",
       "      <th>Importance</th>\n",
       "    </tr>\n",
       "  </thead>\n",
       "  <tbody>\n",
       "    <tr>\n",
       "      <th>birth wt</th>\n",
       "      <td>0.346729</td>\n",
       "    </tr>\n",
       "    <tr>\n",
       "      <th>bm kg</th>\n",
       "      <td>0.259021</td>\n",
       "    </tr>\n",
       "    <tr>\n",
       "      <th>SID</th>\n",
       "      <td>0.149850</td>\n",
       "    </tr>\n",
       "    <tr>\n",
       "      <th>DID</th>\n",
       "      <td>0.116097</td>\n",
       "    </tr>\n",
       "    <tr>\n",
       "      <th>Energy</th>\n",
       "      <td>0.112963</td>\n",
       "    </tr>\n",
       "    <tr>\n",
       "      <th>Birthyr</th>\n",
       "      <td>0.009426</td>\n",
       "    </tr>\n",
       "    <tr>\n",
       "      <th>yr</th>\n",
       "      <td>0.005913</td>\n",
       "    </tr>\n",
       "  </tbody>\n",
       "</table>\n",
       "</div>"
      ],
      "text/plain": [
       "           Importance\n",
       "birth wt     0.346729\n",
       "bm kg        0.259021\n",
       "SID          0.149850\n",
       "DID          0.116097\n",
       "Energy       0.112963\n",
       "Birthyr      0.009426\n",
       "yr           0.005913"
      ]
     },
     "execution_count": 25,
     "metadata": {},
     "output_type": "execute_result"
    }
   ],
   "source": [
    "feat_importances_a = pd.DataFrame(gb_a.feature_importances_, index=X_train_a.columns, columns=[\"Importance\"])\n",
    "feat_importances_a.sort_values(by='Importance', ascending=False, inplace=True)\n",
    "feat_importances_a"
   ]
  },
  {
   "cell_type": "code",
   "execution_count": 26,
   "id": "9827b853",
   "metadata": {},
   "outputs": [
    {
     "data": {
      "image/png": "[encoded data removed]",
      "text/plain": [
       "<Figure size 720x450 with 1 Axes>"
      ]
     },
     "metadata": {
      "needs_background": "light"
     },
     "output_type": "display_data"
    }
   ],
   "source": [
    "feature_names_a = [col for col in X_train_a]\n",
    "feature_importances_a = gb_a.feature_importances_\n",
    "indices_a = np.argsort(feature_importances_a)[::-1]\n",
    "n = 5 # maximum feature importances displayed\n",
    "idx_a = indices_a[0:n] \n",
    "std = np.std(gb_a.feature_importances_)\n",
    "\n",
    "plt.figure(figsize=(10, 6.25))\n",
    "titlefont = 20\n",
    "plt.title(\"Features that Influence Antler Size of 4.5-year-old White-tailed Deer\", fontdict={'fontsize':titlefont})\n",
    "plt.bar(range(n), feature_importances_a[idx_a], color=(0.2, 0.4, 0.6, 0.6), width=0.5, align=\"center\")\n",
    "xticksize = 20\n",
    "plt.xticks(range(n), [feature_names_a[id] for id in idx_a], rotation = 45, fontdict={'fontsize':xticksize}) \n",
    "plt.tick_params(axis='y', which='major', labelsize=20)\n",
    "plt.xlim([-1, n]) \n",
    "plt.show()"
   ]
  },
  {
   "cell_type": "code",
   "execution_count": 27,
   "id": "57e9ff23",
   "metadata": {},
   "outputs": [
    {
     "data": {
      "text/html": [
       "<div>\n",
       "<style scoped>\n",
       "    .dataframe tbody tr th:only-of-type {\n",
       "        vertical-align: middle;\n",
       "    }\n",
       "\n",
       "    .dataframe tbody tr th {\n",
       "        vertical-align: top;\n",
       "    }\n",
       "\n",
       "    .dataframe thead th {\n",
       "        text-align: right;\n",
       "    }\n",
       "</style>\n",
       "<table border=\"1\" class=\"dataframe\">\n",
       "  <thead>\n",
       "    <tr style=\"text-align: right;\">\n",
       "      <th></th>\n",
       "      <th>Importance</th>\n",
       "    </tr>\n",
       "  </thead>\n",
       "  <tbody>\n",
       "    <tr>\n",
       "      <th>bm kg</th>\n",
       "      <td>0.343208</td>\n",
       "    </tr>\n",
       "    <tr>\n",
       "      <th>birth wt</th>\n",
       "      <td>0.207928</td>\n",
       "    </tr>\n",
       "    <tr>\n",
       "      <th>SID</th>\n",
       "      <td>0.149965</td>\n",
       "    </tr>\n",
       "    <tr>\n",
       "      <th>Energy</th>\n",
       "      <td>0.112743</td>\n",
       "    </tr>\n",
       "    <tr>\n",
       "      <th>DID</th>\n",
       "      <td>0.100599</td>\n",
       "    </tr>\n",
       "    <tr>\n",
       "      <th>DaB</th>\n",
       "      <td>0.042868</td>\n",
       "    </tr>\n",
       "    <tr>\n",
       "      <th>Birthyr</th>\n",
       "      <td>0.017719</td>\n",
       "    </tr>\n",
       "    <tr>\n",
       "      <th>yr</th>\n",
       "      <td>0.017650</td>\n",
       "    </tr>\n",
       "    <tr>\n",
       "      <th>M</th>\n",
       "      <td>0.004670</td>\n",
       "    </tr>\n",
       "    <tr>\n",
       "      <th>S</th>\n",
       "      <td>0.002650</td>\n",
       "    </tr>\n",
       "  </tbody>\n",
       "</table>\n",
       "</div>"
      ],
      "text/plain": [
       "           Importance\n",
       "bm kg        0.343208\n",
       "birth wt     0.207928\n",
       "SID          0.149965\n",
       "Energy       0.112743\n",
       "DID          0.100599\n",
       "DaB          0.042868\n",
       "Birthyr      0.017719\n",
       "yr           0.017650\n",
       "M            0.004670\n",
       "S            0.002650"
      ]
     },
     "execution_count": 27,
     "metadata": {},
     "output_type": "execute_result"
    }
   ],
   "source": [
    "feat_importances_b = pd.DataFrame(rfc_b.feature_importances_, index=X_train_b.columns, columns=[\"Importance\"])\n",
    "feat_importances_b.sort_values(by='Importance', ascending=False, inplace=True)\n",
    "feat_importances_b"
   ]
  },
  {
   "cell_type": "code",
   "execution_count": 28,
   "id": "ace4ab54",
   "metadata": {},
   "outputs": [
    {
     "data": {
      "image/png": "[encoded data removed]",
      "text/plain": [
       "<Figure size 720x450 with 1 Axes>"
      ]
     },
     "metadata": {
      "needs_background": "light"
     },
     "output_type": "display_data"
    }
   ],
   "source": [
    "feature_names_b = [col for col in X_train_b]\n",
    "feature_importances_b = rfc_b.feature_importances_\n",
    "indices_b = np.argsort(feature_importances_b)[::-1]\n",
    "n = 5 # maximum feature importances displayed\n",
    "idx_b = indices_b[0:n] \n",
    "std = np.std(gb_b.feature_importances_)\n",
    "\n",
    "plt.figure(figsize=(10, 6.25))\n",
    "titlefont = 20\n",
    "plt.title(\"Features that Influence Antler Size of 4.5-year-old White-tailed Deer\", fontdict={'fontsize':titlefont})\n",
    "plt.bar(range(n), feature_importances_b[idx_b], color=(0.2, 0.4, 0.6, 0.6), width=0.5, align=\"center\")\n",
    "xticksize = 20\n",
    "plt.xticks(range(n), [feature_names_b[id] for id in idx_b], rotation = 45, fontdict={'fontsize':xticksize}) \n",
    "plt.tick_params(axis='y', which='major', labelsize=20)\n",
    "plt.xlim([-1, n]) \n",
    "plt.show()"
   ]
  },
  {
   "cell_type": "markdown",
   "id": "dc9bd9a7",
   "metadata": {},
   "source": [
    "### B. 5.5-year-olds"
   ]
  },
  {
   "cell_type": "code",
   "execution_count": 29,
   "id": "0beff554",
   "metadata": {},
   "outputs": [
    {
     "data": {
      "text/html": [
       "<div>\n",
       "<style scoped>\n",
       "    .dataframe tbody tr th:only-of-type {\n",
       "        vertical-align: middle;\n",
       "    }\n",
       "\n",
       "    .dataframe tbody tr th {\n",
       "        vertical-align: top;\n",
       "    }\n",
       "\n",
       "    .dataframe thead th {\n",
       "        text-align: right;\n",
       "    }\n",
       "</style>\n",
       "<table border=\"1\" class=\"dataframe\">\n",
       "  <thead>\n",
       "    <tr style=\"text-align: right;\">\n",
       "      <th></th>\n",
       "      <th>Importance</th>\n",
       "    </tr>\n",
       "  </thead>\n",
       "  <tbody>\n",
       "    <tr>\n",
       "      <th>birth wt</th>\n",
       "      <td>0.294204</td>\n",
       "    </tr>\n",
       "    <tr>\n",
       "      <th>SID</th>\n",
       "      <td>0.269872</td>\n",
       "    </tr>\n",
       "    <tr>\n",
       "      <th>bm kg</th>\n",
       "      <td>0.188775</td>\n",
       "    </tr>\n",
       "    <tr>\n",
       "      <th>DID</th>\n",
       "      <td>0.174011</td>\n",
       "    </tr>\n",
       "    <tr>\n",
       "      <th>Energy</th>\n",
       "      <td>0.027935</td>\n",
       "    </tr>\n",
       "    <tr>\n",
       "      <th>yr</th>\n",
       "      <td>0.023300</td>\n",
       "    </tr>\n",
       "    <tr>\n",
       "      <th>Birthyr</th>\n",
       "      <td>0.021904</td>\n",
       "    </tr>\n",
       "  </tbody>\n",
       "</table>\n",
       "</div>"
      ],
      "text/plain": [
       "           Importance\n",
       "birth wt     0.294204\n",
       "SID          0.269872\n",
       "bm kg        0.188775\n",
       "DID          0.174011\n",
       "Energy       0.027935\n",
       "yr           0.023300\n",
       "Birthyr      0.021904"
      ]
     },
     "execution_count": 29,
     "metadata": {},
     "output_type": "execute_result"
    }
   ],
   "source": [
    "feat_importances = pd.DataFrame(gb.feature_importances_, index=X_train.columns, columns=[\"Importance\"])\n",
    "feat_importances.sort_values(by='Importance', ascending=False, inplace=True)\n",
    "feat_importances"
   ]
  },
  {
   "cell_type": "code",
   "execution_count": 30,
   "id": "a843d7de",
   "metadata": {},
   "outputs": [
    {
     "data": {
      "image/png": "[encoded data removed]",
      "text/plain": [
       "<Figure size 720x450 with 1 Axes>"
      ]
     },
     "metadata": {
      "needs_background": "light"
     },
     "output_type": "display_data"
    }
   ],
   "source": [
    "feature_names = [col for col in X_train]\n",
    "feature_importances = gb.feature_importances_\n",
    "indices = np.argsort(feature_importances)[::-1]\n",
    "n = 5 # maximum feature importances displayed\n",
    "idx = indices[0:n] \n",
    "std = np.std(gb.feature_importances_)\n",
    "\n",
    "plt.figure(figsize=(10, 6.25))\n",
    "titlefont = 20\n",
    "plt.title(\"Features That Influence Antler Size of 5.5-year-old White-tailed Deer\", fontdict={'fontsize':titlefont})\n",
    "plt.bar(range(n), feature_importances[idx], color=\"lightcoral\", width=0.5, align=\"center\")\n",
    "xticksize = 20\n",
    "plt.xticks(range(n), [feature_names[id] for id in idx], rotation = 45, fontdict={'fontsize':xticksize}) \n",
    "plt.tick_params(axis='y', which='major', labelsize=20)\n",
    "plt.xlim([-1, n]) \n",
    "plt.show()\n",
    "\n"
   ]
  },
  {
   "cell_type": "code",
   "execution_count": 31,
   "id": "6fffb569",
   "metadata": {},
   "outputs": [
    {
     "data": {
      "text/html": [
       "<div>\n",
       "<style scoped>\n",
       "    .dataframe tbody tr th:only-of-type {\n",
       "        vertical-align: middle;\n",
       "    }\n",
       "\n",
       "    .dataframe tbody tr th {\n",
       "        vertical-align: top;\n",
       "    }\n",
       "\n",
       "    .dataframe thead th {\n",
       "        text-align: right;\n",
       "    }\n",
       "</style>\n",
       "<table border=\"1\" class=\"dataframe\">\n",
       "  <thead>\n",
       "    <tr style=\"text-align: right;\">\n",
       "      <th></th>\n",
       "      <th>Importance</th>\n",
       "    </tr>\n",
       "  </thead>\n",
       "  <tbody>\n",
       "    <tr>\n",
       "      <th>SID</th>\n",
       "      <td>0.231646</td>\n",
       "    </tr>\n",
       "    <tr>\n",
       "      <th>bm kg</th>\n",
       "      <td>0.187980</td>\n",
       "    </tr>\n",
       "    <tr>\n",
       "      <th>birth wt</th>\n",
       "      <td>0.177680</td>\n",
       "    </tr>\n",
       "    <tr>\n",
       "      <th>DID</th>\n",
       "      <td>0.118671</td>\n",
       "    </tr>\n",
       "    <tr>\n",
       "      <th>Energy</th>\n",
       "      <td>0.098906</td>\n",
       "    </tr>\n",
       "    <tr>\n",
       "      <th>S</th>\n",
       "      <td>0.048314</td>\n",
       "    </tr>\n",
       "    <tr>\n",
       "      <th>DaB</th>\n",
       "      <td>0.043503</td>\n",
       "    </tr>\n",
       "    <tr>\n",
       "      <th>M</th>\n",
       "      <td>0.032557</td>\n",
       "    </tr>\n",
       "    <tr>\n",
       "      <th>Birthyr</th>\n",
       "      <td>0.030524</td>\n",
       "    </tr>\n",
       "    <tr>\n",
       "      <th>yr</th>\n",
       "      <td>0.030217</td>\n",
       "    </tr>\n",
       "  </tbody>\n",
       "</table>\n",
       "</div>"
      ],
      "text/plain": [
       "           Importance\n",
       "SID          0.231646\n",
       "bm kg        0.187980\n",
       "birth wt     0.177680\n",
       "DID          0.118671\n",
       "Energy       0.098906\n",
       "S            0.048314\n",
       "DaB          0.043503\n",
       "M            0.032557\n",
       "Birthyr      0.030524\n",
       "yr           0.030217"
      ]
     },
     "execution_count": 31,
     "metadata": {},
     "output_type": "execute_result"
    }
   ],
   "source": [
    "feat_importances_1 = pd.DataFrame(rfc_1.feature_importances_, index=X_train_1.columns, columns=[\"Importance\"])\n",
    "feat_importances_1.sort_values(by='Importance', ascending=False, inplace=True)\n",
    "feat_importances_1"
   ]
  },
  {
   "cell_type": "code",
   "execution_count": 32,
   "id": "afdfe8c3",
   "metadata": {},
   "outputs": [
    {
     "data": {
      "image/png": "[encoded data removed]",
      "text/plain": [
       "<Figure size 720x450 with 1 Axes>"
      ]
     },
     "metadata": {
      "needs_background": "light"
     },
     "output_type": "display_data"
    }
   ],
   "source": [
    "feature_names_1 = [col for col in X_train_1]\n",
    "feature_importances_1 = rfc_1.feature_importances_\n",
    "indices_1 = np.argsort(feature_importances_1)[::-1]\n",
    "n = 5 # maximum feature importances displayed\n",
    "idx_1 = indices_1[0:n] \n",
    "std = np.std(gb_1.feature_importances_)\n",
    "\n",
    "plt.figure(figsize=(10, 6.25))\n",
    "titlefont = 20\n",
    "plt.title(\"Features That Influence Antler Size of 5.5-year-old White-tailed Deer \\n (Lit Type and DaB included)\", fontdict={'fontsize':titlefont})\n",
    "plt.bar(range(n), feature_importances_1[idx_1], color=\"lightcoral\", width=0.5, align=\"center\")\n",
    "xticksize = 20\n",
    "plt.xticks(range(n), [feature_names_1[id] for id in idx_1], rotation = 45, fontdict={'fontsize':xticksize}) \n",
    "plt.tick_params(axis='y', which='major', labelsize=20)\n",
    "plt.xlim([-1, n]) \n",
    "plt.show()"
   ]
  },
  {
   "cell_type": "markdown",
   "id": "a162e1f1",
   "metadata": {},
   "source": [
    "## 7. Implications"
   ]
  },
  {
   "cell_type": "markdown",
   "id": "012d7915",
   "metadata": {},
   "source": [
    "### A. 4.5-year-olds\n",
    "* DaB and Lit Type were not important feature. Therefore, there output will be ignored in favor of the larger dataset where they were not included as predictors\n",
    "Antler size of 4.5 year-old males is most influenced by the body mass of the male. What's most surprising here is that, when it comes to determing antler size of mature males, it didn't really matter whether males had been eating a low or high energy diet ('Energy') throughout their life.  \n",
    "\n",
    "###  B. 5.5-year-olds\n",
    "* DaB and Lit Type were not important feature. Thus, there output will be ignored in favor of the larger dataset where they were not included as predictors\n",
    "Antler size of 5.5 year-old males is most influenced by the birth weight of the male. The father of the individual male (SID) was the second highest ranked feature.  Like in 4.5 year olds, it didn't really matter whether males had been eating a low or high energy diet ('Energy') throughout their life.  \n",
    "### C. Commonalities and differences\n",
    "Birth weight of the male was the most influential predictor of 4.5-year-olds and the second most influential of 5.5 year olds.  Also for both age groups, Energy was less predictive than effects from birth weight, body mass, and effects from the mother and father (DID and SID). Interestingly, effects from the father are more apparent when individuals are 5.5-years-old. "
   ]
  },
  {
   "cell_type": "code",
   "execution_count": null,
   "id": "b281a5ec",
   "metadata": {},
   "outputs": [],
   "source": []
  }
 ],
 "metadata": {
  "kernelspec": {
   "display_name": "Python 3 (ipykernel)",
   "language": "python",
   "name": "python3"
  },
  "language_info": {
   "codemirror_mode": {
    "name": "ipython",
    "version": 3
   },
   "file_extension": ".py",
   "mimetype": "text/x-python",
   "name": "python",
   "nbconvert_exporter": "python",
   "pygments_lexer": "ipython3",
   "version": "3.8.8"
  }
 },
 "nbformat": 4,
 "nbformat_minor": 5
}
