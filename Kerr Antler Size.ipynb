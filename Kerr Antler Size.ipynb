{
 "cells": [
  {
   "cell_type": "markdown",
   "id": "c8c41b30",
   "metadata": {},
   "source": [
    "## I. Import Libraries"
   ]
  },
  {
   "cell_type": "code",
   "execution_count": 17,
   "id": "267b5df6",
   "metadata": {},
   "outputs": [],
   "source": [
    "import pandas as pd\n",
    "import matplotlib.pyplot as plt\n",
    "import numpy as np\n",
    "from sklearn.metrics import mean_absolute_error\n",
    "from sklearn.ensemble import RandomForestRegressor\n",
    "from sklearn.ensemble import GradientBoostingRegressor"
   ]
  },
  {
   "cell_type": "markdown",
   "id": "97c8b6b3",
   "metadata": {},
   "source": [
    "## 2. Data\n",
    "\n",
    "* the dataset includes data collected from male white-tailed deer from a captive colony at the Kerr Wildlife Management Area.  The dataset includes parentage information, age, birth year, diet type, antler mass, and body mass of male white-tailed deer."
   ]
  },
  {
   "cell_type": "markdown",
   "id": "8e561418",
   "metadata": {},
   "source": [
    "## 3. Goal: assess the influence from mother 'DID', father 'SID', dietary intake 'Energy' where 'S'=standard, 2.65 kcal/g; 'L'=Low, 1.77 kcal/g), birth year 'birthyr', and year data was collected 'yr' on antler size in mature males. "
   ]
  },
  {
   "cell_type": "code",
   "execution_count": 2,
   "id": "943e2f8d",
   "metadata": {},
   "outputs": [
    {
     "data": {
      "text/html": [
       "<div>\n",
       "<style scoped>\n",
       "    .dataframe tbody tr th:only-of-type {\n",
       "        vertical-align: middle;\n",
       "    }\n",
       "\n",
       "    .dataframe tbody tr th {\n",
       "        vertical-align: top;\n",
       "    }\n",
       "\n",
       "    .dataframe thead th {\n",
       "        text-align: right;\n",
       "    }\n",
       "</style>\n",
       "<table border=\"1\" class=\"dataframe\">\n",
       "  <thead>\n",
       "    <tr style=\"text-align: right;\">\n",
       "      <th></th>\n",
       "      <th>SID</th>\n",
       "      <th>DID</th>\n",
       "      <th>ID</th>\n",
       "      <th>Birthyr</th>\n",
       "      <th>Birthyrcat</th>\n",
       "      <th>Energy</th>\n",
       "      <th>yr</th>\n",
       "      <th>age</th>\n",
       "      <th>antler kg</th>\n",
       "      <th>bm kg</th>\n",
       "    </tr>\n",
       "  </thead>\n",
       "  <tbody>\n",
       "    <tr>\n",
       "      <th>0</th>\n",
       "      <td>1210015</td>\n",
       "      <td>2211067</td>\n",
       "      <td>3214093</td>\n",
       "      <td>2014</td>\n",
       "      <td>C</td>\n",
       "      <td>S</td>\n",
       "      <td>2019</td>\n",
       "      <td>5.5</td>\n",
       "      <td>1.3986</td>\n",
       "      <td>106.594120</td>\n",
       "    </tr>\n",
       "    <tr>\n",
       "      <th>1</th>\n",
       "      <td>1209009</td>\n",
       "      <td>2211091</td>\n",
       "      <td>3213002</td>\n",
       "      <td>2013</td>\n",
       "      <td>B</td>\n",
       "      <td>S</td>\n",
       "      <td>2017</td>\n",
       "      <td>4.5</td>\n",
       "      <td>1.4362</td>\n",
       "      <td>103.872568</td>\n",
       "    </tr>\n",
       "    <tr>\n",
       "      <th>2</th>\n",
       "      <td>1210015</td>\n",
       "      <td>2208035</td>\n",
       "      <td>3214010</td>\n",
       "      <td>2014</td>\n",
       "      <td>C</td>\n",
       "      <td>S</td>\n",
       "      <td>2018</td>\n",
       "      <td>4.5</td>\n",
       "      <td>1.7263</td>\n",
       "      <td>103.872568</td>\n",
       "    </tr>\n",
       "    <tr>\n",
       "      <th>3</th>\n",
       "      <td>1210015</td>\n",
       "      <td>2208035</td>\n",
       "      <td>3214010</td>\n",
       "      <td>2014</td>\n",
       "      <td>C</td>\n",
       "      <td>S</td>\n",
       "      <td>2019</td>\n",
       "      <td>5.5</td>\n",
       "      <td>1.4208</td>\n",
       "      <td>103.418976</td>\n",
       "    </tr>\n",
       "    <tr>\n",
       "      <th>4</th>\n",
       "      <td>1209058</td>\n",
       "      <td>2210059</td>\n",
       "      <td>3213142</td>\n",
       "      <td>2013</td>\n",
       "      <td>B</td>\n",
       "      <td>S</td>\n",
       "      <td>2017</td>\n",
       "      <td>4.5</td>\n",
       "      <td>1.6368</td>\n",
       "      <td>100.697424</td>\n",
       "    </tr>\n",
       "  </tbody>\n",
       "</table>\n",
       "</div>"
      ],
      "text/plain": [
       "       SID      DID       ID  Birthyr Birthyrcat Energy    yr  age  antler kg  \\\n",
       "0  1210015  2211067  3214093     2014          C      S  2019  5.5     1.3986   \n",
       "1  1209009  2211091  3213002     2013          B      S  2017  4.5     1.4362   \n",
       "2  1210015  2208035  3214010     2014          C      S  2018  4.5     1.7263   \n",
       "3  1210015  2208035  3214010     2014          C      S  2019  5.5     1.4208   \n",
       "4  1209058  2210059  3213142     2013          B      S  2017  4.5     1.6368   \n",
       "\n",
       "        bm kg  \n",
       "0  106.594120  \n",
       "1  103.872568  \n",
       "2  103.872568  \n",
       "3  103.418976  \n",
       "4  100.697424  "
      ]
     },
     "execution_count": 2,
     "metadata": {},
     "output_type": "execute_result"
    }
   ],
   "source": [
    "data = pd.read_csv(\"Kerr_Data.csv\")\n",
    "data.head()"
   ]
  },
  {
   "cell_type": "markdown",
   "id": "55777712",
   "metadata": {},
   "source": [
    "## 4. Data Cleaning"
   ]
  },
  {
   "cell_type": "markdown",
   "id": "46fc0061",
   "metadata": {},
   "source": [
    "#### 'Birthyrcat' will be dropped since 'Birthyr' is numerical. 'Age' will be dropped because we already know that older deer have larger antlers."
   ]
  },
  {
   "cell_type": "code",
   "execution_count": 3,
   "id": "005989f6",
   "metadata": {},
   "outputs": [],
   "source": [
    "data.drop(['age','Birthyrcat','ID'],axis=1, inplace=True)"
   ]
  },
  {
   "cell_type": "code",
   "execution_count": 4,
   "id": "56afe34e",
   "metadata": {},
   "outputs": [
    {
     "data": {
      "text/plain": [
       "SID            int64\n",
       "DID            int64\n",
       "Birthyr        int64\n",
       "Energy        object\n",
       "yr             int64\n",
       "antler kg    float64\n",
       "bm kg        float64\n",
       "dtype: object"
      ]
     },
     "execution_count": 4,
     "metadata": {},
     "output_type": "execute_result"
    }
   ],
   "source": [
    "data.dtypes"
   ]
  },
  {
   "cell_type": "code",
   "execution_count": 9,
   "id": "934b609e",
   "metadata": {},
   "outputs": [],
   "source": [
    "from sklearn.preprocessing import OrdinalEncoder, LabelEncoder\n",
    "\n",
    "le = LabelEncoder()\n",
    "data['Energy'] = le.fit_transform(data['Energy'])\n",
    "data['antler kg'] = le.fit_transform(data['antler kg'])\n",
    "data['bm kg'] = le.fit_transform(data['bm kg'])\n"
   ]
  },
  {
   "cell_type": "markdown",
   "id": "d5ac47c7",
   "metadata": {},
   "source": [
    "## 5. Creating the test and train data sets"
   ]
  },
  {
   "cell_type": "code",
   "execution_count": 10,
   "id": "208480b2",
   "metadata": {},
   "outputs": [],
   "source": [
    "X = data.drop(['antler kg'], axis=1)\n",
    "y = data['antler kg']"
   ]
  },
  {
   "cell_type": "code",
   "execution_count": 11,
   "id": "0b2c7aad",
   "metadata": {},
   "outputs": [],
   "source": [
    "from sklearn.model_selection import train_test_split\n",
    "\n",
    "X_train, X_test, y_train, y_test = train_test_split(X, y, test_size=0.2,random_state=25)"
   ]
  },
  {
   "cell_type": "markdown",
   "id": "0b3438db",
   "metadata": {},
   "source": [
    "## 5. Modeling"
   ]
  },
  {
   "cell_type": "code",
   "execution_count": 12,
   "id": "51d96905",
   "metadata": {},
   "outputs": [
    {
     "name": "stdout",
     "output_type": "stream",
     "text": [
      "34.592592592592595\n"
     ]
    }
   ],
   "source": [
    "from sklearn.ensemble import RandomForestClassifier\n",
    "\n",
    "rfc = RandomForestClassifier(random_state=0)\n",
    "\n",
    "rfc.fit(X_train, y_train)\n",
    "\n",
    "y_pred_rfc=rfc.predict(X_test)\n",
    "\n",
    "print(mean_absolute_error(y_test,y_pred_rfc))"
   ]
  },
  {
   "cell_type": "code",
   "execution_count": 13,
   "id": "9f6200cc",
   "metadata": {},
   "outputs": [
    {
     "name": "stdout",
     "output_type": "stream",
     "text": [
      "29.663327831576527\n"
     ]
    }
   ],
   "source": [
    "from sklearn.ensemble import GradientBoostingClassifier\n",
    "\n",
    "gb = GradientBoostingRegressor(random_state = 0)\n",
    "\n",
    "gb.fit(X_train, y_train)\n",
    "\n",
    "y_pred_gb = gb.predict(X_test)\n",
    "\n",
    "print(mean_absolute_error(y_test,y_pred_gb))"
   ]
  },
  {
   "cell_type": "markdown",
   "id": "da98218e",
   "metadata": {},
   "source": [
    "## 6. Ranked Features"
   ]
  },
  {
   "cell_type": "code",
   "execution_count": 14,
   "id": "0beff554",
   "metadata": {},
   "outputs": [
    {
     "data": {
      "text/html": [
       "<div>\n",
       "<style scoped>\n",
       "    .dataframe tbody tr th:only-of-type {\n",
       "        vertical-align: middle;\n",
       "    }\n",
       "\n",
       "    .dataframe tbody tr th {\n",
       "        vertical-align: top;\n",
       "    }\n",
       "\n",
       "    .dataframe thead th {\n",
       "        text-align: right;\n",
       "    }\n",
       "</style>\n",
       "<table border=\"1\" class=\"dataframe\">\n",
       "  <thead>\n",
       "    <tr style=\"text-align: right;\">\n",
       "      <th></th>\n",
       "      <th>Importance</th>\n",
       "    </tr>\n",
       "  </thead>\n",
       "  <tbody>\n",
       "    <tr>\n",
       "      <th>bm kg</th>\n",
       "      <td>0.562424</td>\n",
       "    </tr>\n",
       "    <tr>\n",
       "      <th>DID</th>\n",
       "      <td>0.303165</td>\n",
       "    </tr>\n",
       "    <tr>\n",
       "      <th>SID</th>\n",
       "      <td>0.075364</td>\n",
       "    </tr>\n",
       "    <tr>\n",
       "      <th>yr</th>\n",
       "      <td>0.042488</td>\n",
       "    </tr>\n",
       "    <tr>\n",
       "      <th>Energy</th>\n",
       "      <td>0.013076</td>\n",
       "    </tr>\n",
       "    <tr>\n",
       "      <th>Birthyr</th>\n",
       "      <td>0.003482</td>\n",
       "    </tr>\n",
       "  </tbody>\n",
       "</table>\n",
       "</div>"
      ],
      "text/plain": [
       "         Importance\n",
       "bm kg      0.562424\n",
       "DID        0.303165\n",
       "SID        0.075364\n",
       "yr         0.042488\n",
       "Energy     0.013076\n",
       "Birthyr    0.003482"
      ]
     },
     "execution_count": 14,
     "metadata": {},
     "output_type": "execute_result"
    }
   ],
   "source": [
    "feat_importances = pd.DataFrame(gb.feature_importances_, index=X_train.columns, columns=[\"Importance\"])\n",
    "feat_importances.sort_values(by='Importance', ascending=False, inplace=True)\n",
    "feat_importances"
   ]
  },
  {
   "cell_type": "code",
   "execution_count": 15,
   "id": "a843d7de",
   "metadata": {},
   "outputs": [
    {
     "data": {
      "image/png": "[encoded data removed]",
      "text/plain": [
       "<Figure size 1440x720 with 1 Axes>"
      ]
     },
     "metadata": {
      "needs_background": "light"
     },
     "output_type": "display_data"
    }
   ],
   "source": [
    "feature_names = [col for col in X_train]\n",
    "feature_importances = gb.feature_importances_\n",
    "indices = np.argsort(feature_importances)[::-1]\n",
    "n = 5 # maximum feature importances displayed\n",
    "idx = indices[0:n] \n",
    "std = np.std(gb.feature_importances_)\n",
    "\n",
    "plt.figure(figsize=(20, 10))\n",
    "titlefont = 25\n",
    "plt.title(\"Feature importances\", fontdict={'fontsize':titlefont})\n",
    "plt.bar(range(n), feature_importances[idx], color=\"b\", yerr=std, align=\"center\")\n",
    "xticksize = 20\n",
    "plt.xticks(range(n), [feature_names[id] for id in idx], rotation = 45, fontdict={'fontsize':xticksize}) \n",
    "plt.tick_params(axis='y', which='major', labelsize=20)\n",
    "plt.xlim([-1, n]) \n",
    "plt.show()\n",
    "\n"
   ]
  },
  {
   "cell_type": "markdown",
   "id": "1b09b0d9",
   "metadata": {},
   "source": [
    "## 7. Implications"
   ]
  },
  {
   "cell_type": "markdown",
   "id": "6dc62b8d",
   "metadata": {},
   "source": [
    "### Antler size of mature males is most influenced by the body size of the male.  Interestingly, the effects from the mother are also quite influential, whether it be her genetics, nutritional condition, or otherwise. What's most surprising here is that, when it comes to determing antler size of mature males, it didn't really matter whether males had been eating a low or high energy throughout their life."
   ]
  },
  {
   "cell_type": "code",
   "execution_count": null,
   "id": "9f0155a7",
   "metadata": {},
   "outputs": [],
   "source": []
  }
 ],
 "metadata": {
  "kernelspec": {
   "display_name": "Python 3 (ipykernel)",
   "language": "python",
   "name": "python3"
  },
  "language_info": {
   "codemirror_mode": {
    "name": "ipython",
    "version": 3
   },
   "file_extension": ".py",
   "mimetype": "text/x-python",
   "name": "python",
   "nbconvert_exporter": "python",
   "pygments_lexer": "ipython3",
   "version": "3.8.8"
  }
 },
 "nbformat": 4,
 "nbformat_minor": 5
}
